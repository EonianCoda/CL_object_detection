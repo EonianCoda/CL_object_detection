{
 "cells": [
  {
   "cell_type": "code",
   "execution_count": 2,
   "metadata": {
    "ExecuteTime": {
     "end_time": "2021-05-20T08:45:32.576075Z",
     "start_time": "2021-05-20T08:45:32.434917Z"
    }
   },
   "outputs": [
    {
     "name": "stdout",
     "output_type": "stream",
     "text": [
      "/usr/bin/nvidia-modprobe: unrecognized option: \"-s\"\r\n",
      "\r\n",
      "ERROR: Invalid commandline, please run `/usr/bin/nvidia-modprobe --help` for\r\n",
      "       usage information.\r\n",
      "\r\n",
      "/usr/bin/nvidia-modprobe: unrecognized option: \"-s\"\r\n",
      "\r\n",
      "ERROR: Invalid commandline, please run `/usr/bin/nvidia-modprobe --help` for\r\n",
      "       usage information.\r\n",
      "\r\n",
      "Thu May 20 16:45:32 2021       \r\n",
      "+-----------------------------------------------------------------------------+\r\n",
      "| NVIDIA-SMI 450.119.03   Driver Version: 450.119.03   CUDA Version: 11.0     |\r\n",
      "|-------------------------------+----------------------+----------------------+\r\n",
      "| GPU  Name        Persistence-M| Bus-Id        Disp.A | Volatile Uncorr. ECC |\r\n",
      "| Fan  Temp  Perf  Pwr:Usage/Cap|         Memory-Usage | GPU-Util  Compute M. |\r\n",
      "|                               |                      |               MIG M. |\r\n",
      "|===============================+======================+======================|\r\n",
      "|   0  TITAN Xp            Off  | 00000000:03:00.0 Off |                  N/A |\r\n",
      "| 64%   78C    P2    74W / 250W |   1072MiB / 12194MiB |      0%      Default |\r\n",
      "|                               |                      |                  N/A |\r\n",
      "+-------------------------------+----------------------+----------------------+\r\n",
      "                                                                               \r\n",
      "+-----------------------------------------------------------------------------+\r\n",
      "| Processes:                                                                  |\r\n",
      "|  GPU   GI   CI        PID   Type   Process name                  GPU Memory |\r\n",
      "|        ID   ID                                                   Usage      |\r\n",
      "|=============================================================================|\r\n",
      "|    0   N/A  N/A      1709      G   /usr/lib/xorg/Xorg                 18MiB |\r\n",
      "|    0   N/A  N/A      1811      G   /usr/bin/gnome-shell               76MiB |\r\n",
      "|    0   N/A  N/A      4565      G   /usr/lib/xorg/Xorg                 86MiB |\r\n",
      "|    0   N/A  N/A      4731      G   /usr/bin/gnome-shell               98MiB |\r\n",
      "|    0   N/A  N/A      4757      G   ...mviewer/tv_bin/TeamViewer        3MiB |\r\n",
      "|    0   N/A  N/A      5559      G   ...AAAAAAAA== --shared-files       14MiB |\r\n",
      "|    0   N/A  N/A     11834      C   python                            767MiB |\r\n",
      "+-----------------------------------------------------------------------------+\r\n"
     ]
    }
   ],
   "source": [
    "! nvidia-smi"
   ]
  },
  {
   "cell_type": "code",
   "execution_count": 3,
   "metadata": {
    "ExecuteTime": {
     "end_time": "2021-05-20T08:45:41.464876Z",
     "start_time": "2021-05-20T08:45:35.862106Z"
    }
   },
   "outputs": [
    {
     "name": "stdout",
     "output_type": "stream",
     "text": [
      "loading annotations into memory...\n",
      "Done (t=0.10s)\n",
      "creating index...\n",
      "index created!\n",
      "loading annotations into memory...\n",
      "Done (t=0.05s)\n",
      "creating index...\n",
      "index created!\n",
      "{'id': [[1, 2, 3, 4, 5, 7, 8, 9, 10, 11, 15, 16, 17, 18, 19], [6], [20], [14], [12], [13]], 'name': [['aeroplane', 'bicycle', 'bird', 'boat', 'bottle', 'bus', 'car', 'cat', 'chair', 'cow', 'diningtable', 'dog', 'horse', 'motorbike', 'person'], ['train'], ['sheep'], ['sofa'], ['pottedplant'], ['tvmonitor']]}\n",
      "dataloader class_num = 16\n",
      "readcheckpoint at Round2 Epoch50\n"
     ]
    }
   ],
   "source": [
    "import numpy as np\n",
    "import os\n",
    "from retinanet import model\n",
    "from retinanet import coco_eval\n",
    "from retinanet.dataloader import CocoDataset_inOrder, collater, Resizer, AspectRatioBasedSampler, Augmenter, Normalizer\n",
    "from torchvision import transforms\n",
    "from torch.utils.data import DataLoader\n",
    "import torch.optim as optim\n",
    "import collections\n",
    "import torch\n",
    "\n",
    "\n",
    "root_path = '/home/deeplab307/Documents/Anaconda/Shiang/CL/'\n",
    "method = 'w_distillation'\n",
    "data_split = '15+1'\n",
    "start_round = 2\n",
    "batch_size = 2\n",
    "\n",
    "def get_checkpoint_path(method, now_round, epoch):\n",
    "    global root_path\n",
    "    global data_split\n",
    "    \n",
    "    path = os.path.join(root_path, 'model', method, 'round{}'.format(now_round), data_split,'voc_retinanet_{}_checkpoint.pt'.format(epoch))\n",
    "    return path\n",
    "\n",
    "def readCheckpoint(method, now_round, epoch, retinanet, optimizer = None, scheduler = None):\n",
    "    print('readcheckpoint at Round{} Epoch{}'.format(now_round, epoch))\n",
    "    prev_checkpoint = torch.load(get_checkpoint_path(method, now_round, epoch))\n",
    "    retinanet.load_state_dict(prev_checkpoint['model_state_dict'])\n",
    "    if optimizer != None:\n",
    "        optimizer.load_state_dict(prev_checkpoint['optimizer_state_dict'])\n",
    "    if scheduler != None:\n",
    "        scheduler.load_state_dict(prev_checkpoint['scheduler_state_dict'])\n",
    "    \n",
    "\n",
    "coco_path = '/home/deeplab307/Documents/Anaconda/Shiang/CL/DataSet/VOC2012'\n",
    "\n",
    "dataset_train = CocoDataset_inOrder(coco_path, set_name='TrainVoc2012', dataset = 'voc',\n",
    "                                    transform=transforms.Compose([Normalizer(), Augmenter(), Resizer()]), \n",
    "                                    start_round=start_round, data_split = data_split)\n",
    "\n",
    "sampler = AspectRatioBasedSampler(dataset_train, batch_size = batch_size, drop_last=False)\n",
    "dataloader_train = DataLoader(dataset_train, num_workers=2, collate_fn=collater, batch_sampler=sampler)\n",
    "\n",
    "retinanet = model.resnet50(num_classes=dataset_train.num_classes(), pretrained=True)\n",
    "\n",
    "# optimizer = optim.Adam(retinanet.parameters(), lr=1e-5)\n",
    "# scheduler = optim.lr_scheduler.ReduceLROnPlateau(optimizer, patience=3, verbose=True)\n",
    "# loss_hist = collections.deque(maxlen=500)\n",
    "\n",
    "readCheckpoint(method, start_round, 50, retinanet)#, optimizer, scheduler)\n",
    "retinanet = retinanet.cuda()"
   ]
  },
  {
   "cell_type": "code",
   "execution_count": null,
   "metadata": {
    "ExecuteTime": {
     "end_time": "2021-05-20T07:36:48.153006Z",
     "start_time": "2021-05-20T07:36:47.720911Z"
    }
   },
   "outputs": [],
   "source": [
    "c = torch.load(get_checkpoint_path('w_distillation', 2, 30))"
   ]
  },
  {
   "cell_type": "code",
   "execution_count": null,
   "metadata": {
    "ExecuteTime": {
     "end_time": "2021-05-20T07:36:59.327490Z",
     "start_time": "2021-05-20T07:36:59.321016Z"
    }
   },
   "outputs": [],
   "source": [
    "c['rehearsal_samples']"
   ]
  },
  {
   "cell_type": "code",
   "execution_count": null,
   "metadata": {
    "ExecuteTime": {
     "end_time": "2021-05-18T18:22:20.580507Z",
     "start_time": "2021-05-18T18:21:54.754484Z"
    }
   },
   "outputs": [],
   "source": [
    "for img in rehearsal_imgs:\n",
    "    im = cv2.imread(os.path.join(path, str(img)[:4] + '_' + str(img)[4:] +'.jpg'))\n",
    "    plt.figure(figsize=(10,10))\n",
    "    imshow(im)"
   ]
  },
  {
   "cell_type": "code",
   "execution_count": null,
   "metadata": {
    "ExecuteTime": {
     "end_time": "2021-05-10T07:34:10.340894Z",
     "start_time": "2021-05-10T07:34:10.072498Z"
    }
   },
   "outputs": [],
   "source": [
    "now_round = 1\n",
    "path = os.path.join(root_path, 'valResult', 'Voc', method)\n",
    "path = os.path.join(path, \"round{}\".format(now_round))\n",
    "result = json.load(open(os.path.join(path, '{}_bbox_results_{}_for{}epoch_1.json'.format(\"TestVoc2007\", now_round, 50))))"
   ]
  },
  {
   "cell_type": "code",
   "execution_count": null,
   "metadata": {
    "ExecuteTime": {
     "end_time": "2021-05-10T07:34:52.684821Z",
     "start_time": "2021-05-10T07:34:52.579410Z"
    }
   },
   "outputs": [],
   "source": [
    "for i in range(1,5):\n",
    "    thresold = 0.1 * i\n",
    "    new_result = []\n",
    "    print(thresold, len(result), end=' ')\n",
    "    for i,data in enumerate(result):\n",
    "        if data['score'] >= thresold:\n",
    "            new_result.append(data)\n",
    "    print(len(new_result))"
   ]
  },
  {
   "cell_type": "code",
   "execution_count": 23,
   "metadata": {
    "ExecuteTime": {
     "end_time": "2021-05-20T09:10:53.736194Z",
     "start_time": "2021-05-20T09:10:53.707473Z"
    },
    "code_folding": []
   },
   "outputs": [],
   "source": [
    "from pycocotools.cocoeval import COCOeval\n",
    "from collections import defaultdict\n",
    "from tqdm import tqdm\n",
    "import copy\n",
    "def evaluate_coco(dataset, model, root_path, method, now_round, epoch, threshold=0.05):\n",
    "    \n",
    "    model.eval()\n",
    "    path = os.path.join(root_path, 'valResult', 'Voc', method)\n",
    "    path = os.path.join(path, \"round{}\".format(now_round))\n",
    "    with torch.no_grad():\n",
    "\n",
    "        # start collecting results\n",
    "        results = []\n",
    "        image_ids = []\n",
    "\n",
    "#         for index in tqdm(range(len(dataset))):\n",
    "#             data = dataset[index]\n",
    "#             scale = data['scale']\n",
    "\n",
    "#             # run network\n",
    "#             if torch.cuda.is_available():\n",
    "#                 scores, labels, boxes = model(data['img'].permute(2, 0, 1).cuda().float().unsqueeze(dim=0))\n",
    "#             else:\n",
    "#                 scores, labels, boxes = model(data['img'].permute(2, 0, 1).float().unsqueeze(dim=0))\n",
    "#             scores = scores.cpu()\n",
    "#             labels = labels.cpu()\n",
    "#             boxes  = boxes.cpu()\n",
    "#             # correct boxes for image scale\n",
    "#             boxes /= scale\n",
    "\n",
    "#             if boxes.shape[0] > 0:\n",
    "#                 # change to (x, y, w, h) (MS COCO standard)\n",
    "#                 boxes[:, 2] -= boxes[:, 0]\n",
    "#                 boxes[:, 3] -= boxes[:, 1]\n",
    "\n",
    "#                 # compute predicted labels and scores\n",
    "#                 #for box, score, label in zip(boxes[0], scores[0], labels[0]):\n",
    "#                 for box_id in range(boxes.shape[0]):\n",
    "#                     score = float(scores[box_id])\n",
    "#                     label = int(labels[box_id])\n",
    "#                     box = boxes[box_id, :]\n",
    "\n",
    "#                     # scores are sorted, so we can break\n",
    "#                     if score < threshold:\n",
    "#                         break\n",
    "\n",
    "#                     # append detection for each positively labeled class\n",
    "#                     image_result = {\n",
    "#                         'image_id'    : dataset.image_ids[index],\n",
    "#                         'category_id' : dataset.label_to_coco_label(label),\n",
    "#                         'score'       : float(score),\n",
    "#                         'bbox'        : box.tolist(),\n",
    "#                     }\n",
    "\n",
    "#                     # append detection to results\n",
    "#                     results.append(image_result)\n",
    "\n",
    "#             # append image to list of processed images\n",
    "#             image_ids.append(dataset.image_ids[index])\n",
    "\n",
    "#         if not len(results):\n",
    "#             return\n",
    "\n",
    "#         # write output\n",
    "        \n",
    "#         path = os.path.join(root_path, 'valResult', 'Voc', method)\n",
    "#         checkDir(path)\n",
    "#         path = os.path.join(path, \"round{}\".format(now_round))\n",
    "#         checkDir(path)\n",
    "      \n",
    "#         json.dump(results, open(os.path.join(path , '{}_bbox_results_{}_for{}epoch.json'.format(dataset.set_name, now_round, epoch)), 'w') ,indent=4)\n",
    "        \n",
    "        image_ids = dataset.image_ids\n",
    "        # load results in COCO evaluation tool\n",
    "        coco_true = dataset.coco\n",
    "        \n",
    "        \n",
    "        result = json.load(open(os.path.join(path, '{}_bbox_results_{}_for{}epoch.json'.format(dataset.set_name, now_round, epoch))))\n",
    "        \n",
    "        new_result = []\n",
    "        print(threshold, len(result), end=' ')\n",
    "        for i,data in enumerate(result):\n",
    "            if data['score'] >= threshold:\n",
    "                new_result.append(data)\n",
    "        print(len(new_result))\n",
    "        \n",
    "    \n",
    "        coco_pred = coco_true.loadRes(new_result)\n",
    "        \n",
    "        #return (coco_true, coco_pred)\n",
    "        #coco_pred = coco_true.loadRes(os.path.join(path, '{}_bbox_results_{}_for{}epoch_1.json'.format(dataset.set_name, now_round, epoch)))\n",
    "        #return (coco_true, coco_pred)\n",
    "        # run COCO evaluation\n",
    "        coco_eval = COCOeval(coco_true, coco_pred, 'bbox')\n",
    "        coco_eval.params.imgIds = image_ids\n",
    "        \n",
    "        precision_result = defaultdict()\n",
    "        recall_result = defaultdict()\n",
    "        \n",
    "        for class_id in dataset.seen_class_id:\n",
    "            class_name = dataset.cocoHelper.catIdToName(class_id)[0]\n",
    "            print('Evaluate {}:'.format(class_name))\n",
    "            coco_eval.params.catIds = [class_id]\n",
    "\n",
    "#             coco_eval.params.imgIds = list(set(dataset.cocoHelper.getImgIdFromCats(dataset.seen_class_id)) -  set(dataset.cocoHelper.getImgIdFromCats([2,4,8])))\n",
    "#             print(len(coco_eval.params.imgIds))\n",
    "            #coco_eval.params.imgIds = dataset.cocoHelper.getImgIdFromCats(class_id)\n",
    "            coco_eval.evaluate()\n",
    "            #return coco_eval\n",
    "#             for key in coco_eval.ious.keys():\n",
    "#                 print(coco_eval.ious[key])\n",
    "#                 break\n",
    "\n",
    "            coco_eval.accumulate()\n",
    "            coco_eval.summarize()\n",
    "            precision_result[class_name] = coco_eval.stats[1]\n",
    "            recall_result[class_name] = coco_eval.stats[8]\n",
    "\n",
    "        if len(dataset.seen_class_id) > 1:\n",
    "            print(\"Precision:\")\n",
    "            for name, ap in sorted(precision_result.items()):\n",
    "                print('{:<12} = {:0.2f}'.format(name, ap))\n",
    "\n",
    "            print(\"Recall:\")\n",
    "            for name, ap in sorted(recall_result.items()):\n",
    "                print('{:<12} = {:0.2f}'.format(name, ap))\n",
    "            \n",
    "            print(\"------------------------------------------\")\n",
    "            print('{:<12} = {:0.2f}'.format('MAP', np.mean([v for v in precision_result.values()])))\n",
    "            print('{:<12} = {:0.2f}'.format('Average Recall', np.mean([v for v in recall_result.values()])))\n",
    "            print(\"Precision:\")\n",
    "            for name, ap in sorted(precision_result.items()):\n",
    "                print('{:0.2f}'.format(ap))\n",
    "            print(\"Recall:\")\n",
    "            for name, ap in sorted(recall_result.items()):\n",
    "                print('{:0.2f}'.format(ap))\n",
    "        model.train()\n",
    "        \n",
    "        return\n",
    "def validation(val_model, dataType, model_round, model_epoch, val_round, years=2012,test_flag=False,custom_ids=[], threshold = 0.05):\n",
    "    global data_split\n",
    "    print(\"-\"*100)\n",
    "    print('Start eval on Round{} Epoch{}!'.format(model_round, model_epoch))\n",
    "\n",
    "    \n",
    "    val_model.eval()\n",
    "    val_model.freeze_bn()\n",
    "    set_name = \"{}Voc{}\".format(dataType, years)\n",
    "\n",
    "    print('Validation data is {} at Round{}'.format(set_name, val_round))\n",
    "    dataset_val = CocoDataset_inOrder(os.path.join(root_path, 'DataSet', 'VOC{}'.format(years)), set_name=set_name, dataset = 'voc', \n",
    "                    transform=transforms.Compose([Normalizer(), Resizer()]), \n",
    "                    start_round=val_round, data_split = data_split)\n",
    "#                     test_flag=test_flag,\n",
    "#                     custom_ids=custom_ids)\n",
    " \n",
    "    return evaluate_coco(dataset_val, val_model, root_path, method, model_round, model_epoch, threshold)\n",
    "    del dataset_val\n"
   ]
  },
  {
   "cell_type": "code",
   "execution_count": null,
   "metadata": {
    "ExecuteTime": {
     "end_time": "2021-05-20T03:07:04.580786Z",
     "start_time": "2021-05-20T03:07:04.038093Z"
    }
   },
   "outputs": [],
   "source": [
    "true, pred = validation(retinanet, 'Val', start_round,50, 1, 2012, False, [12], 0.5)"
   ]
  },
  {
   "cell_type": "code",
   "execution_count": 25,
   "metadata": {
    "ExecuteTime": {
     "end_time": "2021-05-20T09:11:56.574169Z",
     "start_time": "2021-05-20T09:11:37.525888Z"
    }
   },
   "outputs": [
    {
     "name": "stdout",
     "output_type": "stream",
     "text": [
      "----------------------------------------------------------------------------------------------------\n",
      "Start eval on Round2 Epoch30!\n",
      "Validation data is TestVoc2007 at Round2\n",
      "loading annotations into memory...\n",
      "Done (t=0.06s)\n",
      "creating index...\n",
      "index created!\n",
      "loading annotations into memory...\n",
      "Done (t=0.06s)\n",
      "creating index...\n",
      "index created!\n",
      "{'id': [[1, 2, 3, 4, 5, 7, 8, 9, 10, 11, 15, 16, 17, 18, 19], [6], [20], [14], [12], [13]], 'name': [['aeroplane', 'bicycle', 'bird', 'boat', 'bottle', 'bus', 'car', 'cat', 'chair', 'cow', 'diningtable', 'dog', 'horse', 'motorbike', 'person'], ['train'], ['sheep'], ['sofa'], ['pottedplant'], ['tvmonitor']]}\n",
      "0.05 76083 76083\n",
      "Loading and preparing results...\n",
      "DONE (t=0.25s)\n",
      "creating index...\n",
      "index created!\n",
      "[1, 2, 3, 4, 5, 7, 8, 9, 10, 11, 15, 16, 17, 18, 19, 6]\n",
      "Evaluate person:\n",
      "Running per image evaluation...\n",
      "Evaluate annotation type *bbox*\n",
      "DONE (t=5.26s).\n",
      "Accumulating evaluation results...\n",
      "DONE (t=0.61s).\n",
      " Average Precision  (AP) @[ IoU=0.50:0.95 | area=   all | maxDets=100 ] = 0.354\n",
      " Average Precision  (AP) @[ IoU=0.50      | area=   all | maxDets=100 ] = 0.755\n",
      " Average Precision  (AP) @[ IoU=0.75      | area=   all | maxDets=100 ] = 0.278\n",
      " Average Precision  (AP) @[ IoU=0.50:0.95 | area= small | maxDets=100 ] = 0.114\n",
      " Average Precision  (AP) @[ IoU=0.50:0.95 | area=medium | maxDets=100 ] = 0.285\n",
      " Average Precision  (AP) @[ IoU=0.50:0.95 | area= large | maxDets=100 ] = 0.444\n",
      " Average Recall     (AR) @[ IoU=0.50:0.95 | area=   all | maxDets=  1 ] = 0.215\n",
      " Average Recall     (AR) @[ IoU=0.50:0.95 | area=   all | maxDets= 10 ] = 0.453\n",
      " Average Recall     (AR) @[ IoU=0.50:0.95 | area=   all | maxDets=100 ] = 0.479\n",
      " Average Recall     (AR) @[ IoU=0.50:0.95 | area= small | maxDets=100 ] = 0.289\n",
      " Average Recall     (AR) @[ IoU=0.50:0.95 | area=medium | maxDets=100 ] = 0.413\n",
      " Average Recall     (AR) @[ IoU=0.50:0.95 | area= large | maxDets=100 ] = 0.561\n",
      "Evaluate car:\n",
      "Running per image evaluation...\n",
      "Evaluate annotation type *bbox*\n",
      "DONE (t=1.34s).\n",
      "Accumulating evaluation results...\n",
      "DONE (t=0.23s).\n",
      " Average Precision  (AP) @[ IoU=0.50:0.95 | area=   all | maxDets=100 ] = 0.437\n",
      " Average Precision  (AP) @[ IoU=0.50      | area=   all | maxDets=100 ] = 0.734\n",
      " Average Precision  (AP) @[ IoU=0.75      | area=   all | maxDets=100 ] = 0.464\n",
      " Average Precision  (AP) @[ IoU=0.50:0.95 | area= small | maxDets=100 ] = 0.108\n",
      " Average Precision  (AP) @[ IoU=0.50:0.95 | area=medium | maxDets=100 ] = 0.340\n",
      " Average Precision  (AP) @[ IoU=0.50:0.95 | area= large | maxDets=100 ] = 0.628\n",
      " Average Recall     (AR) @[ IoU=0.50:0.95 | area=   all | maxDets=  1 ] = 0.330\n",
      " Average Recall     (AR) @[ IoU=0.50:0.95 | area=   all | maxDets= 10 ] = 0.513\n",
      " Average Recall     (AR) @[ IoU=0.50:0.95 | area=   all | maxDets=100 ] = 0.525\n",
      " Average Recall     (AR) @[ IoU=0.50:0.95 | area= small | maxDets=100 ] = 0.232\n",
      " Average Recall     (AR) @[ IoU=0.50:0.95 | area=medium | maxDets=100 ] = 0.442\n",
      " Average Recall     (AR) @[ IoU=0.50:0.95 | area= large | maxDets=100 ] = 0.703\n",
      "Evaluate bicycle:\n",
      "Running per image evaluation...\n",
      "Evaluate annotation type *bbox*\n",
      "DONE (t=0.49s).\n",
      "Accumulating evaluation results...\n",
      "DONE (t=0.11s).\n",
      " Average Precision  (AP) @[ IoU=0.50:0.95 | area=   all | maxDets=100 ] = 0.369\n",
      " Average Precision  (AP) @[ IoU=0.50      | area=   all | maxDets=100 ] = 0.689\n",
      " Average Precision  (AP) @[ IoU=0.75      | area=   all | maxDets=100 ] = 0.337\n",
      " Average Precision  (AP) @[ IoU=0.50:0.95 | area= small | maxDets=100 ] = 0.024\n",
      " Average Precision  (AP) @[ IoU=0.50:0.95 | area=medium | maxDets=100 ] = 0.199\n",
      " Average Precision  (AP) @[ IoU=0.50:0.95 | area= large | maxDets=100 ] = 0.464\n",
      " Average Recall     (AR) @[ IoU=0.50:0.95 | area=   all | maxDets=  1 ] = 0.343\n",
      " Average Recall     (AR) @[ IoU=0.50:0.95 | area=   all | maxDets= 10 ] = 0.463\n",
      " Average Recall     (AR) @[ IoU=0.50:0.95 | area=   all | maxDets=100 ] = 0.470\n",
      " Average Recall     (AR) @[ IoU=0.50:0.95 | area= small | maxDets=100 ] = 0.105\n",
      " Average Recall     (AR) @[ IoU=0.50:0.95 | area=medium | maxDets=100 ] = 0.320\n",
      " Average Recall     (AR) @[ IoU=0.50:0.95 | area= large | maxDets=100 ] = 0.560\n",
      "Evaluate bus:\n",
      "Running per image evaluation...\n",
      "Evaluate annotation type *bbox*\n",
      "DONE (t=0.33s).\n",
      "Accumulating evaluation results...\n",
      "DONE (t=0.07s).\n",
      " Average Precision  (AP) @[ IoU=0.50:0.95 | area=   all | maxDets=100 ] = 0.411\n",
      " Average Precision  (AP) @[ IoU=0.50      | area=   all | maxDets=100 ] = 0.642\n",
      " Average Precision  (AP) @[ IoU=0.75      | area=   all | maxDets=100 ] = 0.452\n",
      " Average Precision  (AP) @[ IoU=0.50:0.95 | area= small | maxDets=100 ] = 0.049\n",
      " Average Precision  (AP) @[ IoU=0.50:0.95 | area=medium | maxDets=100 ] = 0.126\n",
      " Average Precision  (AP) @[ IoU=0.50:0.95 | area= large | maxDets=100 ] = 0.512\n",
      " Average Recall     (AR) @[ IoU=0.50:0.95 | area=   all | maxDets=  1 ] = 0.428\n",
      " Average Recall     (AR) @[ IoU=0.50:0.95 | area=   all | maxDets= 10 ] = 0.499\n",
      " Average Recall     (AR) @[ IoU=0.50:0.95 | area=   all | maxDets=100 ] = 0.499\n",
      " Average Recall     (AR) @[ IoU=0.50:0.95 | area= small | maxDets=100 ] = 0.067\n",
      " Average Recall     (AR) @[ IoU=0.50:0.95 | area=medium | maxDets=100 ] = 0.242\n",
      " Average Recall     (AR) @[ IoU=0.50:0.95 | area= large | maxDets=100 ] = 0.598\n",
      "Evaluate motorbike:\n",
      "Running per image evaluation...\n",
      "Evaluate annotation type *bbox*\n",
      "DONE (t=0.80s).\n",
      "Accumulating evaluation results...\n",
      "DONE (t=0.16s).\n",
      " Average Precision  (AP) @[ IoU=0.50:0.95 | area=   all | maxDets=100 ] = 0.382\n",
      " Average Precision  (AP) @[ IoU=0.50      | area=   all | maxDets=100 ] = 0.716\n",
      " Average Precision  (AP) @[ IoU=0.75      | area=   all | maxDets=100 ] = 0.372\n",
      " Average Precision  (AP) @[ IoU=0.50:0.95 | area= small | maxDets=100 ] = 0.021\n",
      " Average Precision  (AP) @[ IoU=0.50:0.95 | area=medium | maxDets=100 ] = 0.200\n",
      " Average Precision  (AP) @[ IoU=0.50:0.95 | area= large | maxDets=100 ] = 0.469\n",
      " Average Recall     (AR) @[ IoU=0.50:0.95 | area=   all | maxDets=  1 ] = 0.361\n",
      " Average Recall     (AR) @[ IoU=0.50:0.95 | area=   all | maxDets= 10 ] = 0.508\n",
      " Average Recall     (AR) @[ IoU=0.50:0.95 | area=   all | maxDets=100 ] = 0.531\n",
      " Average Recall     (AR) @[ IoU=0.50:0.95 | area= small | maxDets=100 ] = 0.318\n",
      " Average Recall     (AR) @[ IoU=0.50:0.95 | area=medium | maxDets=100 ] = 0.409\n",
      " Average Recall     (AR) @[ IoU=0.50:0.95 | area= large | maxDets=100 ] = 0.593\n",
      "Evaluate aeroplane:\n",
      "Running per image evaluation...\n",
      "Evaluate annotation type *bbox*\n",
      "DONE (t=0.29s).\n",
      "Accumulating evaluation results...\n",
      "DONE (t=0.06s).\n",
      " Average Precision  (AP) @[ IoU=0.50:0.95 | area=   all | maxDets=100 ] = 0.317\n",
      " Average Precision  (AP) @[ IoU=0.50      | area=   all | maxDets=100 ] = 0.656\n",
      " Average Precision  (AP) @[ IoU=0.75      | area=   all | maxDets=100 ] = 0.286\n",
      " Average Precision  (AP) @[ IoU=0.50:0.95 | area= small | maxDets=100 ] = 0.034\n",
      " Average Precision  (AP) @[ IoU=0.50:0.95 | area=medium | maxDets=100 ] = 0.239\n",
      " Average Precision  (AP) @[ IoU=0.50:0.95 | area= large | maxDets=100 ] = 0.401\n",
      " Average Recall     (AR) @[ IoU=0.50:0.95 | area=   all | maxDets=  1 ] = 0.341\n",
      " Average Recall     (AR) @[ IoU=0.50:0.95 | area=   all | maxDets= 10 ] = 0.414\n",
      " Average Recall     (AR) @[ IoU=0.50:0.95 | area=   all | maxDets=100 ] = 0.415\n",
      " Average Recall     (AR) @[ IoU=0.50:0.95 | area= small | maxDets=100 ] = 0.073\n",
      " Average Recall     (AR) @[ IoU=0.50:0.95 | area=medium | maxDets=100 ] = 0.352\n",
      " Average Recall     (AR) @[ IoU=0.50:0.95 | area= large | maxDets=100 ] = 0.502\n",
      "Evaluate boat:\n",
      "Running per image evaluation...\n",
      "Evaluate annotation type *bbox*\n",
      "DONE (t=0.42s).\n",
      "Accumulating evaluation results...\n",
      "DONE (t=0.08s).\n",
      " Average Precision  (AP) @[ IoU=0.50:0.95 | area=   all | maxDets=100 ] = 0.147\n",
      " Average Precision  (AP) @[ IoU=0.50      | area=   all | maxDets=100 ] = 0.368\n",
      " Average Precision  (AP) @[ IoU=0.75      | area=   all | maxDets=100 ] = 0.074\n",
      " Average Precision  (AP) @[ IoU=0.50:0.95 | area= small | maxDets=100 ] = 0.052\n",
      " Average Precision  (AP) @[ IoU=0.50:0.95 | area=medium | maxDets=100 ] = 0.169\n",
      " Average Precision  (AP) @[ IoU=0.50:0.95 | area= large | maxDets=100 ] = 0.197\n",
      " Average Recall     (AR) @[ IoU=0.50:0.95 | area=   all | maxDets=  1 ] = 0.154\n",
      " Average Recall     (AR) @[ IoU=0.50:0.95 | area=   all | maxDets= 10 ] = 0.283\n",
      " Average Recall     (AR) @[ IoU=0.50:0.95 | area=   all | maxDets=100 ] = 0.299\n",
      " Average Recall     (AR) @[ IoU=0.50:0.95 | area= small | maxDets=100 ] = 0.134\n",
      " Average Recall     (AR) @[ IoU=0.50:0.95 | area=medium | maxDets=100 ] = 0.297\n",
      " Average Recall     (AR) @[ IoU=0.50:0.95 | area= large | maxDets=100 ] = 0.397\n",
      "Evaluate chair:\n",
      "Running per image evaluation...\n",
      "Evaluate annotation type *bbox*\n"
     ]
    },
    {
     "name": "stdout",
     "output_type": "stream",
     "text": [
      "DONE (t=1.51s).\n",
      "Accumulating evaluation results...\n",
      "DONE (t=0.32s).\n",
      " Average Precision  (AP) @[ IoU=0.50:0.95 | area=   all | maxDets=100 ] = 0.191\n",
      " Average Precision  (AP) @[ IoU=0.50      | area=   all | maxDets=100 ] = 0.421\n",
      " Average Precision  (AP) @[ IoU=0.75      | area=   all | maxDets=100 ] = 0.141\n",
      " Average Precision  (AP) @[ IoU=0.50:0.95 | area= small | maxDets=100 ] = 0.016\n",
      " Average Precision  (AP) @[ IoU=0.50:0.95 | area=medium | maxDets=100 ] = 0.168\n",
      " Average Precision  (AP) @[ IoU=0.50:0.95 | area= large | maxDets=100 ] = 0.259\n",
      " Average Recall     (AR) @[ IoU=0.50:0.95 | area=   all | maxDets=  1 ] = 0.149\n",
      " Average Recall     (AR) @[ IoU=0.50:0.95 | area=   all | maxDets= 10 ] = 0.330\n",
      " Average Recall     (AR) @[ IoU=0.50:0.95 | area=   all | maxDets=100 ] = 0.351\n",
      " Average Recall     (AR) @[ IoU=0.50:0.95 | area= small | maxDets=100 ] = 0.077\n",
      " Average Recall     (AR) @[ IoU=0.50:0.95 | area=medium | maxDets=100 ] = 0.304\n",
      " Average Recall     (AR) @[ IoU=0.50:0.95 | area= large | maxDets=100 ] = 0.457\n",
      "Evaluate bottle:\n",
      "Running per image evaluation...\n",
      "Evaluate annotation type *bbox*\n",
      "DONE (t=0.87s).\n",
      "Accumulating evaluation results...\n",
      "DONE (t=0.14s).\n",
      " Average Precision  (AP) @[ IoU=0.50:0.95 | area=   all | maxDets=100 ] = 0.203\n",
      " Average Precision  (AP) @[ IoU=0.50      | area=   all | maxDets=100 ] = 0.446\n",
      " Average Precision  (AP) @[ IoU=0.75      | area=   all | maxDets=100 ] = 0.152\n",
      " Average Precision  (AP) @[ IoU=0.50:0.95 | area= small | maxDets=100 ] = 0.043\n",
      " Average Precision  (AP) @[ IoU=0.50:0.95 | area=medium | maxDets=100 ] = 0.199\n",
      " Average Precision  (AP) @[ IoU=0.50:0.95 | area= large | maxDets=100 ] = 0.391\n",
      " Average Recall     (AR) @[ IoU=0.50:0.95 | area=   all | maxDets=  1 ] = 0.150\n",
      " Average Recall     (AR) @[ IoU=0.50:0.95 | area=   all | maxDets= 10 ] = 0.279\n",
      " Average Recall     (AR) @[ IoU=0.50:0.95 | area=   all | maxDets=100 ] = 0.320\n",
      " Average Recall     (AR) @[ IoU=0.50:0.95 | area= small | maxDets=100 ] = 0.165\n",
      " Average Recall     (AR) @[ IoU=0.50:0.95 | area=medium | maxDets=100 ] = 0.319\n",
      " Average Recall     (AR) @[ IoU=0.50:0.95 | area= large | maxDets=100 ] = 0.496\n",
      "Evaluate diningtable:\n",
      "Running per image evaluation...\n",
      "Evaluate annotation type *bbox*\n",
      "DONE (t=0.47s).\n",
      "Accumulating evaluation results...\n",
      "DONE (t=0.12s).\n",
      " Average Precision  (AP) @[ IoU=0.50:0.95 | area=   all | maxDets=100 ] = 0.255\n",
      " Average Precision  (AP) @[ IoU=0.50      | area=   all | maxDets=100 ] = 0.528\n",
      " Average Precision  (AP) @[ IoU=0.75      | area=   all | maxDets=100 ] = 0.199\n",
      " Average Precision  (AP) @[ IoU=0.50:0.95 | area= small | maxDets=100 ] = 0.000\n",
      " Average Precision  (AP) @[ IoU=0.50:0.95 | area=medium | maxDets=100 ] = 0.027\n",
      " Average Precision  (AP) @[ IoU=0.50:0.95 | area= large | maxDets=100 ] = 0.305\n",
      " Average Recall     (AR) @[ IoU=0.50:0.95 | area=   all | maxDets=  1 ] = 0.333\n",
      " Average Recall     (AR) @[ IoU=0.50:0.95 | area=   all | maxDets= 10 ] = 0.385\n",
      " Average Recall     (AR) @[ IoU=0.50:0.95 | area=   all | maxDets=100 ] = 0.386\n",
      " Average Recall     (AR) @[ IoU=0.50:0.95 | area= small | maxDets=100 ] = 0.000\n",
      " Average Recall     (AR) @[ IoU=0.50:0.95 | area=medium | maxDets=100 ] = 0.070\n",
      " Average Recall     (AR) @[ IoU=0.50:0.95 | area= large | maxDets=100 ] = 0.455\n",
      "Evaluate bird:\n",
      "Running per image evaluation...\n",
      "Evaluate annotation type *bbox*\n",
      "DONE (t=0.65s).\n",
      "Accumulating evaluation results...\n",
      "DONE (t=0.08s).\n",
      " Average Precision  (AP) @[ IoU=0.50:0.95 | area=   all | maxDets=100 ] = 0.323\n",
      " Average Precision  (AP) @[ IoU=0.50      | area=   all | maxDets=100 ] = 0.663\n",
      " Average Precision  (AP) @[ IoU=0.75      | area=   all | maxDets=100 ] = 0.259\n",
      " Average Precision  (AP) @[ IoU=0.50:0.95 | area= small | maxDets=100 ] = 0.082\n",
      " Average Precision  (AP) @[ IoU=0.50:0.95 | area=medium | maxDets=100 ] = 0.288\n",
      " Average Precision  (AP) @[ IoU=0.50:0.95 | area= large | maxDets=100 ] = 0.414\n",
      " Average Recall     (AR) @[ IoU=0.50:0.95 | area=   all | maxDets=  1 ] = 0.278\n",
      " Average Recall     (AR) @[ IoU=0.50:0.95 | area=   all | maxDets= 10 ] = 0.414\n",
      " Average Recall     (AR) @[ IoU=0.50:0.95 | area=   all | maxDets=100 ] = 0.430\n",
      " Average Recall     (AR) @[ IoU=0.50:0.95 | area= small | maxDets=100 ] = 0.171\n",
      " Average Recall     (AR) @[ IoU=0.50:0.95 | area=medium | maxDets=100 ] = 0.394\n",
      " Average Recall     (AR) @[ IoU=0.50:0.95 | area= large | maxDets=100 ] = 0.528\n",
      "Evaluate cat:\n",
      "Running per image evaluation...\n",
      "Evaluate annotation type *bbox*\n",
      "DONE (t=0.39s).\n",
      "Accumulating evaluation results...\n",
      "DONE (t=0.08s).\n",
      " Average Precision  (AP) @[ IoU=0.50:0.95 | area=   all | maxDets=100 ] = 0.500\n",
      " Average Precision  (AP) @[ IoU=0.50      | area=   all | maxDets=100 ] = 0.871\n",
      " Average Precision  (AP) @[ IoU=0.75      | area=   all | maxDets=100 ] = 0.501\n",
      " Average Precision  (AP) @[ IoU=0.50:0.95 | area= small | maxDets=100 ] = 0.000\n",
      " Average Precision  (AP) @[ IoU=0.50:0.95 | area=medium | maxDets=100 ] = 0.261\n",
      " Average Precision  (AP) @[ IoU=0.50:0.95 | area= large | maxDets=100 ] = 0.521\n",
      " Average Recall     (AR) @[ IoU=0.50:0.95 | area=   all | maxDets=  1 ] = 0.534\n",
      " Average Recall     (AR) @[ IoU=0.50:0.95 | area=   all | maxDets= 10 ] = 0.612\n",
      " Average Recall     (AR) @[ IoU=0.50:0.95 | area=   all | maxDets=100 ] = 0.612\n",
      " Average Recall     (AR) @[ IoU=0.50:0.95 | area= small | maxDets=100 ] = 0.000\n",
      " Average Recall     (AR) @[ IoU=0.50:0.95 | area=medium | maxDets=100 ] = 0.393\n",
      " Average Recall     (AR) @[ IoU=0.50:0.95 | area= large | maxDets=100 ] = 0.634\n",
      "Evaluate cow:\n",
      "Running per image evaluation...\n",
      "Evaluate annotation type *bbox*\n",
      "DONE (t=0.35s).\n",
      "Accumulating evaluation results...\n",
      "DONE (t=0.07s).\n",
      " Average Precision  (AP) @[ IoU=0.50:0.95 | area=   all | maxDets=100 ] = 0.390\n",
      " Average Precision  (AP) @[ IoU=0.50      | area=   all | maxDets=100 ] = 0.702\n",
      " Average Precision  (AP) @[ IoU=0.75      | area=   all | maxDets=100 ] = 0.380\n",
      " Average Precision  (AP) @[ IoU=0.50:0.95 | area= small | maxDets=100 ] = 0.175\n",
      " Average Precision  (AP) @[ IoU=0.50:0.95 | area=medium | maxDets=100 ] = 0.399\n",
      " Average Precision  (AP) @[ IoU=0.50:0.95 | area= large | maxDets=100 ] = 0.455\n",
      " Average Recall     (AR) @[ IoU=0.50:0.95 | area=   all | maxDets=  1 ] = 0.255\n",
      " Average Recall     (AR) @[ IoU=0.50:0.95 | area=   all | maxDets= 10 ] = 0.529\n",
      " Average Recall     (AR) @[ IoU=0.50:0.95 | area=   all | maxDets=100 ] = 0.534\n",
      " Average Recall     (AR) @[ IoU=0.50:0.95 | area= small | maxDets=100 ] = 0.331\n",
      " Average Recall     (AR) @[ IoU=0.50:0.95 | area=medium | maxDets=100 ] = 0.536\n",
      " Average Recall     (AR) @[ IoU=0.50:0.95 | area= large | maxDets=100 ] = 0.585\n",
      "Evaluate dog:\n",
      "Running per image evaluation...\n",
      "Evaluate annotation type *bbox*\n",
      "DONE (t=0.55s).\n",
      "Accumulating evaluation results...\n",
      "DONE (t=0.12s).\n",
      " Average Precision  (AP) @[ IoU=0.50:0.95 | area=   all | maxDets=100 ] = 0.470\n",
      " Average Precision  (AP) @[ IoU=0.50      | area=   all | maxDets=100 ] = 0.813\n",
      " Average Precision  (AP) @[ IoU=0.75      | area=   all | maxDets=100 ] = 0.504\n",
      " Average Precision  (AP) @[ IoU=0.50:0.95 | area= small | maxDets=100 ] = 0.005\n",
      " Average Precision  (AP) @[ IoU=0.50:0.95 | area=medium | maxDets=100 ] = 0.224\n",
      " Average Precision  (AP) @[ IoU=0.50:0.95 | area= large | maxDets=100 ] = 0.511\n",
      " Average Recall     (AR) @[ IoU=0.50:0.95 | area=   all | maxDets=  1 ] = 0.493\n",
      " Average Recall     (AR) @[ IoU=0.50:0.95 | area=   all | maxDets= 10 ] = 0.589\n",
      " Average Recall     (AR) @[ IoU=0.50:0.95 | area=   all | maxDets=100 ] = 0.589\n",
      " Average Recall     (AR) @[ IoU=0.50:0.95 | area= small | maxDets=100 ] = 0.050\n",
      " Average Recall     (AR) @[ IoU=0.50:0.95 | area=medium | maxDets=100 ] = 0.390\n",
      " Average Recall     (AR) @[ IoU=0.50:0.95 | area= large | maxDets=100 ] = 0.626\n",
      "Evaluate horse:\n",
      "Running per image evaluation...\n",
      "Evaluate annotation type *bbox*\n",
      "DONE (t=0.44s).\n",
      "Accumulating evaluation results...\n",
      "DONE (t=0.10s).\n",
      " Average Precision  (AP) @[ IoU=0.50:0.95 | area=   all | maxDets=100 ] = 0.363\n",
      " Average Precision  (AP) @[ IoU=0.50      | area=   all | maxDets=100 ] = 0.705\n",
      " Average Precision  (AP) @[ IoU=0.75      | area=   all | maxDets=100 ] = 0.313\n",
      " Average Precision  (AP) @[ IoU=0.50:0.95 | area= small | maxDets=100 ] = 0.043\n",
      " Average Precision  (AP) @[ IoU=0.50:0.95 | area=medium | maxDets=100 ] = 0.104\n",
      " Average Precision  (AP) @[ IoU=0.50:0.95 | area= large | maxDets=100 ] = 0.426\n",
      " Average Recall     (AR) @[ IoU=0.50:0.95 | area=   all | maxDets=  1 ] = 0.389\n",
      " Average Recall     (AR) @[ IoU=0.50:0.95 | area=   all | maxDets= 10 ] = 0.504\n",
      " Average Recall     (AR) @[ IoU=0.50:0.95 | area=   all | maxDets=100 ] = 0.506\n",
      " Average Recall     (AR) @[ IoU=0.50:0.95 | area= small | maxDets=100 ] = 0.200\n",
      " Average Recall     (AR) @[ IoU=0.50:0.95 | area=medium | maxDets=100 ] = 0.308\n",
      " Average Recall     (AR) @[ IoU=0.50:0.95 | area= large | maxDets=100 ] = 0.561\n",
      "Evaluate train:\n",
      "Running per image evaluation...\n",
      "Evaluate annotation type *bbox*\n"
     ]
    },
    {
     "name": "stdout",
     "output_type": "stream",
     "text": [
      "DONE (t=1.13s).\n",
      "Accumulating evaluation results...\n",
      "DONE (t=0.38s).\n",
      " Average Precision  (AP) @[ IoU=0.50:0.95 | area=   all | maxDets=100 ] = 0.190\n",
      " Average Precision  (AP) @[ IoU=0.50      | area=   all | maxDets=100 ] = 0.379\n",
      " Average Precision  (AP) @[ IoU=0.75      | area=   all | maxDets=100 ] = 0.162\n",
      " Average Precision  (AP) @[ IoU=0.50:0.95 | area= small | maxDets=100 ] = -1.000\n",
      " Average Precision  (AP) @[ IoU=0.50:0.95 | area=medium | maxDets=100 ] = 0.013\n",
      " Average Precision  (AP) @[ IoU=0.50:0.95 | area= large | maxDets=100 ] = 0.216\n",
      " Average Recall     (AR) @[ IoU=0.50:0.95 | area=   all | maxDets=  1 ] = 0.399\n",
      " Average Recall     (AR) @[ IoU=0.50:0.95 | area=   all | maxDets= 10 ] = 0.510\n",
      " Average Recall     (AR) @[ IoU=0.50:0.95 | area=   all | maxDets=100 ] = 0.514\n",
      " Average Recall     (AR) @[ IoU=0.50:0.95 | area= small | maxDets=100 ] = -1.000\n",
      " Average Recall     (AR) @[ IoU=0.50:0.95 | area=medium | maxDets=100 ] = 0.259\n",
      " Average Recall     (AR) @[ IoU=0.50:0.95 | area= large | maxDets=100 ] = 0.546\n",
      "Precision:\n",
      "aeroplane    = 0.66\n",
      "bicycle      = 0.69\n",
      "bird         = 0.66\n",
      "boat         = 0.37\n",
      "bottle       = 0.45\n",
      "bus          = 0.64\n",
      "car          = 0.73\n",
      "cat          = 0.87\n",
      "chair        = 0.42\n",
      "cow          = 0.70\n",
      "diningtable  = 0.53\n",
      "dog          = 0.81\n",
      "horse        = 0.71\n",
      "motorbike    = 0.72\n",
      "person       = 0.75\n",
      "train        = 0.38\n",
      "Recall:\n",
      "aeroplane    = 0.42\n",
      "bicycle      = 0.47\n",
      "bird         = 0.43\n",
      "boat         = 0.30\n",
      "bottle       = 0.32\n",
      "bus          = 0.50\n",
      "car          = 0.52\n",
      "cat          = 0.61\n",
      "chair        = 0.35\n",
      "cow          = 0.53\n",
      "diningtable  = 0.39\n",
      "dog          = 0.59\n",
      "horse        = 0.51\n",
      "motorbike    = 0.53\n",
      "person       = 0.48\n",
      "train        = 0.51\n",
      "------------------------------------------\n",
      "MAP          = 0.63\n",
      "Average Recall = 0.47\n",
      "Precision:\n",
      "0.66\n",
      "0.69\n",
      "0.66\n",
      "0.37\n",
      "0.45\n",
      "0.64\n",
      "0.73\n",
      "0.87\n",
      "0.42\n",
      "0.70\n",
      "0.53\n",
      "0.81\n",
      "0.71\n",
      "0.72\n",
      "0.75\n",
      "0.38\n",
      "Recall:\n",
      "0.42\n",
      "0.47\n",
      "0.43\n",
      "0.30\n",
      "0.32\n",
      "0.50\n",
      "0.52\n",
      "0.61\n",
      "0.35\n",
      "0.53\n",
      "0.39\n",
      "0.59\n",
      "0.51\n",
      "0.53\n",
      "0.48\n",
      "0.51\n"
     ]
    }
   ],
   "source": [
    "validation(retinanet, 'Test', start_round,30, 2, 2007, False, [12], 0.05)"
   ]
  },
  {
   "cell_type": "code",
   "execution_count": null,
   "metadata": {
    "ExecuteTime": {
     "end_time": "2021-05-19T04:26:27.874558Z",
     "start_time": "2021-05-19T04:26:22.160714Z"
    },
    "scrolled": false
   },
   "outputs": [],
   "source": [
    "import matplotlib.pyplot as plt\n",
    "from PIL import Image\n",
    "import os\n",
    "import cv2\n",
    "from matplotlib.pyplot import imshow\n",
    "import random\n",
    "\n",
    "# Draws a caption above the box in an image\n",
    "def draw_caption(image, box, caption, color=(255, 0, 255)):\n",
    "    b = np.array(box).astype(int)\n",
    "    #cv2.putText(image, caption, (b[0], b[1] - 10), cv2.FONT_HERSHEY_SIMPLEX, 2, (0, 0, 0), 2)\n",
    "    cv2.putText(image, caption, ( b[0] , b[1] + int((b[3] - b[1]) / 2) ), cv2.FONT_HERSHEY_SIMPLEX, 1, color, 1)\n",
    "\n",
    "    \n",
    "catId = 6\n",
    "path = '/home/deeplab307/Documents/Anaconda/Shiang/CL/DataSet/VOC2012/images'\n",
    "\n",
    "#non12 = list(set(true.getImgIds()) - set(true.getImgIds(catIds=[catId])))\n",
    "\n",
    "non12 = true.getImgIds(catIds=[catId])\n",
    "\n",
    "i = 0\n",
    "flag = False\n",
    "flag2 = False\n",
    "random.shuffle(non12)\n",
    "for imgId in non12:\n",
    "    flag = False\n",
    "    flag2 = False\n",
    "    for ann in pred.loadAnns(pred.getAnnIds(imgIds=[imgId])):\n",
    "        if ann['category_id'] == catId and flag == False:\n",
    "            im = cv2.imread(os.path.join(path, str(imgId)[:4] + '_' + str(imgId)[4:] +'.jpg'))\n",
    "            flag = True\n",
    "            break\n",
    "        \n",
    "        \n",
    "    if flag:\n",
    "        for ann in pred.loadAnns(pred.getAnnIds(imgIds=[imgId])):\n",
    "            flag2 = True\n",
    "            #print(ann)\n",
    "            box = ann['bbox']\n",
    "\n",
    "            x1, y1, w, h = box\n",
    "            x2 = x1 + w\n",
    "            y2 = y1 + h\n",
    "            start_p = (int(x1) , int(y1))\n",
    "            end_p = (int(x2) , int(y2))\n",
    " \n",
    "            if ann['category_id'] == catId:\n",
    "                draw_caption(im,(x1, y1, x2, y2),str(round(ann['score'],3)))\n",
    "                color = (0,255,0)\n",
    "            else:\n",
    "                draw_caption(im,(x1, y1, x2, y2),str(round(ann['score'],3)),(0, 255, 255))\n",
    "                print(ann['category_id'])\n",
    "                \n",
    "                color = (0,0,255)\n",
    "            cv2.rectangle(im, start_p, end_p, color, thickness=2)\n",
    "    if flag2:\n",
    "        for ann in true.loadAnns(true.getAnnIds(imgIds=[imgId])):\n",
    "#             if ann['category_id'] == catId:\n",
    "            box = ann['bbox']\n",
    "\n",
    "            x1, y1, w, h = box\n",
    "            x2 = x1 + w\n",
    "            y2 = y1 + h\n",
    "            start_p = (int(x1) , int(y1))\n",
    "            end_p = (int(x2) , int(y2))\n",
    "            \n",
    "            cv2.rectangle(im, start_p, end_p, (255,0,0), thickness=2)\n",
    "        plt.figure(figsize=(15,15))\n",
    "        imshow(im)\n",
    "        i+= 1\n",
    "    if i == 12:\n",
    "        break"
   ]
  },
  {
   "cell_type": "code",
   "execution_count": null,
   "metadata": {
    "ExecuteTime": {
     "end_time": "2021-05-19T04:29:37.947605Z",
     "start_time": "2021-05-19T04:29:37.928092Z"
    }
   },
   "outputs": [],
   "source": [
    "visual_img"
   ]
  },
  {
   "cell_type": "code",
   "execution_count": null,
   "metadata": {
    "ExecuteTime": {
     "end_time": "2021-05-19T04:27:34.802356Z",
     "start_time": "2021-05-19T04:27:34.798246Z"
    }
   },
   "outputs": [],
   "source": [
    "visual_img = non12"
   ]
  },
  {
   "cell_type": "code",
   "execution_count": null,
   "metadata": {
    "ExecuteTime": {
     "end_time": "2021-05-19T05:54:33.491968Z",
     "start_time": "2021-05-19T05:54:29.615036Z"
    },
    "scrolled": false
   },
   "outputs": [],
   "source": [
    "import matplotlib.pyplot as plt\n",
    "from PIL import Image\n",
    "import os\n",
    "import cv2\n",
    "from matplotlib.pyplot import imshow\n",
    "import random\n",
    "\n",
    "# Draws a caption above the box in an image\n",
    "def draw_caption(image, box, caption, color):\n",
    "    b = np.array(box).astype(int)\n",
    "    #cv2.putText(image, caption, (b[0], b[1] - 10), cv2.FONT_HERSHEY_SIMPLEX, 2, (0, 0, 0), 2)\n",
    "    cv2.putText(image, caption, (b[0] + int((b[2] - b[0]) /  4), b[1] + int((b[3] - b[1]) / 2) ), cv2.FONT_HERSHEY_SIMPLEX, 1, color, 1)\n",
    "\n",
    "    \n",
    "catId = 6\n",
    "path = '/home/deeplab307/Documents/Anaconda/Shiang/CL/DataSet/VOC2012/images'\n",
    "\n",
    "non12 = list(set(true.getImgIds()) - set(true.getImgIds(catIds=[catId])))\n",
    "\n",
    "#non12 = true.getImgIds(catIds=[catId])\n",
    "\n",
    "i = 0\n",
    "flag = False\n",
    "flag2 = False\n",
    "random.shuffle(non12)\n",
    "for imgId in non12:\n",
    "    flag = False\n",
    "    flag2 = False\n",
    "    for ann in pred.loadAnns(pred.getAnnIds(imgIds=[imgId])):\n",
    "        if ann['category_id'] == catId and flag == False:\n",
    "            im = cv2.imread(os.path.join(path, str(imgId)[:4] + '_' + str(imgId)[4:] +'.jpg'))\n",
    "            flag = True\n",
    "            break\n",
    "        \n",
    "        \n",
    "    if flag:\n",
    "        for ann in pred.loadAnns(pred.getAnnIds(imgIds=[imgId])):\n",
    "            flag2 = True\n",
    "            #print(ann)\n",
    "            box = ann['bbox']\n",
    "\n",
    "            x1, y1, w, h = box\n",
    "            x2 = x1 + w\n",
    "            y2 = y1 + h\n",
    "            start_p = (int(x1) , int(y1))\n",
    "            end_p = (int(x2) , int(y2))\n",
    " \n",
    "            if ann['category_id'] == catId:\n",
    "                draw_caption(im,(x1, y1, x2, y2),str(round(ann['score'],3)), (0,255,0))\n",
    "                color = (0,255,0)\n",
    "            else:\n",
    "                draw_caption(im,(x1, y1, x2, y2),str(round(ann['score'],3)), (0,0,255))\n",
    "                color = (0,0,255)\n",
    "            cv2.rectangle(im, start_p, end_p, color, thickness=2)\n",
    "    if flag2:\n",
    "        for ann in true.loadAnns(true.getAnnIds(imgIds=[imgId])):\n",
    "#             if ann['category_id'] == catId:\n",
    "            box = ann['bbox']\n",
    "\n",
    "            x1, y1, w, h = box\n",
    "            x2 = x1 + w\n",
    "            y2 = y1 + h\n",
    "            start_p = (int(x1) , int(y1))\n",
    "            end_p = (int(x2) , int(y2))\n",
    "            \n",
    "            cv2.rectangle(im, start_p, end_p, (255,0,0), thickness=2)\n",
    "        plt.figure(figsize=(15,15))\n",
    "        imshow(im)\n",
    "        i+= 1\n",
    "    if i == 9:\n",
    "        break"
   ]
  },
  {
   "cell_type": "code",
   "execution_count": null,
   "metadata": {
    "ExecuteTime": {
     "end_time": "2021-05-19T04:30:46.342044Z",
     "start_time": "2021-05-19T04:30:42.018838Z"
    },
    "scrolled": false
   },
   "outputs": [],
   "source": [
    "import matplotlib.pyplot as plt\n",
    "from PIL import Image\n",
    "import os\n",
    "import cv2\n",
    "from matplotlib.pyplot import imshow\n",
    "import random\n",
    "\n",
    "# Draws a caption above the box in an image\n",
    "def draw_caption(image, box, caption, color):\n",
    "    b = np.array(box).astype(int)\n",
    "    #cv2.putText(image, caption, (b[0], b[1] - 10), cv2.FONT_HERSHEY_SIMPLEX, 2, (0, 0, 0), 2)\n",
    "    cv2.putText(image, caption, (b[0] + int((b[2] - b[0]) /  4), b[1] + int((b[3] - b[1]) / 2) ), cv2.FONT_HERSHEY_SIMPLEX, 1, color, 1)\n",
    "\n",
    "    \n",
    "catId = 6\n",
    "path = '/home/deeplab307/Documents/Anaconda/Shiang/CL/DataSet/VOC2012/images'\n",
    "\n",
    "# non12 = list(set(true.getImgIds()) - set(true.getImgIds(catIds=[catId])))\n",
    "\n",
    "#non12 = true.getImgIds(catIds=[catId])\n",
    "\n",
    "i = 0\n",
    "flag = False\n",
    "flag2 = False\n",
    "# random.shuffle(non12)\n",
    "non12 = visual_img\n",
    "for imgId in non12:\n",
    "    flag = False\n",
    "    flag2 = False\n",
    "    for ann in pred.loadAnns(pred.getAnnIds(imgIds=[imgId])):\n",
    "        if ann['category_id'] == catId and flag == False:\n",
    "            im = cv2.imread(os.path.join(path, str(imgId)[:4] + '_' + str(imgId)[4:] +'.jpg'))\n",
    "            flag = True\n",
    "            break\n",
    "        \n",
    "        \n",
    "    if flag:\n",
    "        for ann in pred.loadAnns(pred.getAnnIds(imgIds=[imgId])):\n",
    "            flag2 = True\n",
    "            #print(ann)\n",
    "            box = ann['bbox']\n",
    "\n",
    "            x1, y1, w, h = box\n",
    "            x2 = x1 + w\n",
    "            y2 = y1 + h\n",
    "            start_p = (int(x1) , int(y1))\n",
    "            end_p = (int(x2) , int(y2))\n",
    " \n",
    "            if ann['category_id'] == catId:\n",
    "                draw_caption(im,(x1, y1, x2, y2),str(round(ann['score'],3)), (0,255,0))\n",
    "                color = (0,255,0)\n",
    "            else:\n",
    "                draw_caption(im,(x1, y1, x2, y2),str(round(ann['score'],3)), (0,0,255))\n",
    "                color = (0,0,255)\n",
    "            cv2.rectangle(im, start_p, end_p, color, thickness=2)\n",
    "    if flag2:\n",
    "        for ann in true.loadAnns(true.getAnnIds(imgIds=[imgId])):\n",
    "#             if ann['category_id'] == catId:\n",
    "            box = ann['bbox']\n",
    "\n",
    "            x1, y1, w, h = box\n",
    "            x2 = x1 + w\n",
    "            y2 = y1 + h\n",
    "            start_p = (int(x1) , int(y1))\n",
    "            end_p = (int(x2) , int(y2))\n",
    "            \n",
    "            cv2.rectangle(im, start_p, end_p, (255,0,0), thickness=2)\n",
    "        plt.figure(figsize=(15,15))\n",
    "        imshow(im)\n",
    "        i+= 1\n",
    "    if i == 9:\n",
    "        break"
   ]
  },
  {
   "cell_type": "code",
   "execution_count": null,
   "metadata": {
    "ExecuteTime": {
     "end_time": "2021-05-18T09:51:48.170432Z",
     "start_time": "2021-05-18T09:51:48.164268Z"
    }
   },
   "outputs": [],
   "source": [
    "round(0.0669,2)"
   ]
  },
  {
   "cell_type": "code",
   "execution_count": null,
   "metadata": {},
   "outputs": [],
   "source": []
  },
  {
   "cell_type": "code",
   "execution_count": null,
   "metadata": {
    "ExecuteTime": {
     "end_time": "2021-05-18T09:26:08.824314Z",
     "start_time": "2021-05-18T09:26:08.818423Z"
    }
   },
   "outputs": [],
   "source": [
    "box[0]"
   ]
  },
  {
   "cell_type": "code",
   "execution_count": null,
   "metadata": {
    "ExecuteTime": {
     "end_time": "2021-05-18T09:24:31.573041Z",
     "start_time": "2021-05-18T09:24:31.566389Z"
    }
   },
   "outputs": [],
   "source": [
    "help(cv2.rectangle)"
   ]
  },
  {
   "cell_type": "code",
   "execution_count": null,
   "metadata": {
    "ExecuteTime": {
     "end_time": "2021-05-18T09:21:40.215527Z",
     "start_time": "2021-05-18T09:21:40.206574Z"
    }
   },
   "outputs": [],
   "source": [
    "pred.loadAnns(pred.getAnnIds(imgIds=[imgId]))"
   ]
  },
  {
   "cell_type": "code",
   "execution_count": null,
   "metadata": {
    "ExecuteTime": {
     "end_time": "2021-05-18T06:53:59.737637Z",
     "start_time": "2021-05-18T06:53:47.416451Z"
    }
   },
   "outputs": [],
   "source": [
    "validation(retinanet, 'Val', start_round, 50, 2, 2012, False, [12], 0.05)"
   ]
  },
  {
   "cell_type": "code",
   "execution_count": null,
   "metadata": {
    "ExecuteTime": {
     "end_time": "2021-05-18T06:54:07.146079Z",
     "start_time": "2021-05-18T06:53:59.760210Z"
    }
   },
   "outputs": [],
   "source": [
    "validation(retinanet, 'Val', start_round, 50, 2, 2012, False, [12], 0.5)"
   ]
  },
  {
   "cell_type": "code",
   "execution_count": null,
   "metadata": {
    "ExecuteTime": {
     "end_time": "2021-05-10T17:38:41.695084Z",
     "start_time": "2021-05-10T17:38:40.816211Z"
    }
   },
   "outputs": [],
   "source": [
    "true16, pred16 = validation(retinanet, 'Val', start_round, 30, 2, False,[12], 0.05)"
   ]
  },
  {
   "cell_type": "code",
   "execution_count": null,
   "metadata": {
    "ExecuteTime": {
     "end_time": "2021-05-10T17:39:59.027291Z",
     "start_time": "2021-05-10T17:39:59.005918Z"
    }
   },
   "outputs": [],
   "source": [
    "print(len(true15.getAnnIds()), len(true16.getAnnIds()))"
   ]
  },
  {
   "cell_type": "code",
   "execution_count": null,
   "metadata": {
    "ExecuteTime": {
     "end_time": "2021-05-10T17:45:53.529882Z",
     "start_time": "2021-05-10T17:45:53.518297Z"
    }
   },
   "outputs": [],
   "source": [
    "from collections import defaultdict\n",
    "p = 0\n",
    "n = 0\n",
    "\n",
    "compare = []\n",
    "for imgId in pred15.getImgIds():\n",
    "    r15 = pred15.loadAnns(ids= pred15.getAnnIds(imgIds=[imgId]))\n",
    "    compare.append(defaultdict(0))\n",
    "    \n",
    "    for ann in r15:\n",
    "        compare[]\n",
    "    cat_ids = set([ann['category_id'] for ann in r15])\n",
    "    \n",
    "    \n",
    "    list(s\n",
    "    r16 = pred16.loadAnns(ids= pred16.getAnnIds(imgIds=[imgId]))\n",
    "    \n",
    "    for ann in r16:\n",
    "        \n",
    "        if ann['category_id'] != 12 and ann['category_id'] in r16:\n",
    "            if ann['score'] >= 0.4:\n",
    "                p +=1\n",
    "            else:\n",
    "    \n",
    "    \n",
    "#     if(len(pred15.getAnnIds(imgIds=[imgId])) != 0):\n",
    "#         for i in pred15.loadAnns(ids= pred15.getAnnIds(imgIds=[imgId])):\n",
    "#             print(i)\n",
    "        \n",
    "#         print(\"\\n\")\n",
    "#         for i in pred16.loadAnns(ids= pred16.getAnnIds(imgIds=[imgId])):\n",
    "#             print(i)\n",
    "#         break"
   ]
  },
  {
   "cell_type": "code",
   "execution_count": null,
   "metadata": {
    "ExecuteTime": {
     "end_time": "2021-05-10T17:42:45.096252Z",
     "start_time": "2021-05-10T17:42:45.076655Z"
    }
   },
   "outputs": [],
   "source": [
    "pred15.getImgIds()"
   ]
  },
  {
   "cell_type": "code",
   "execution_count": null,
   "metadata": {
    "ExecuteTime": {
     "end_time": "2021-05-10T17:43:32.418497Z",
     "start_time": "2021-05-10T17:43:32.410761Z"
    }
   },
   "outputs": [],
   "source": [
    "true15.loadAnns(ids=true15.getAnnIds(imgIds=[2008000007]))"
   ]
  },
  {
   "cell_type": "code",
   "execution_count": null,
   "metadata": {
    "ExecuteTime": {
     "end_time": "2021-05-10T17:39:00.409858Z",
     "start_time": "2021-05-10T17:38:59.804654Z"
    }
   },
   "outputs": [],
   "source": [
    "true15, pred15 = validation(retinanet, 'Val', 1, 50, 1, False,[12], 0.05)"
   ]
  },
  {
   "cell_type": "code",
   "execution_count": null,
   "metadata": {
    "ExecuteTime": {
     "end_time": "2021-05-10T07:49:16.357153Z",
     "start_time": "2021-05-10T07:49:07.595057Z"
    }
   },
   "outputs": [],
   "source": [
    "validation(retinanet, 'Test', start_round, 50, 1, False,[12], 0.1)"
   ]
  },
  {
   "cell_type": "code",
   "execution_count": null,
   "metadata": {
    "ExecuteTime": {
     "end_time": "2021-05-09T09:57:47.776757Z",
     "start_time": "2021-05-09T09:57:47.713245Z"
    }
   },
   "outputs": [],
   "source": [
    "from collections import defaultdict\n",
    "non12 = list(set(true.getImgIds()) - set(true.getImgIds(catIds=[12])))\n",
    "\n",
    "final = defaultdict(list)\n",
    "for element in pred.loadAnns(ids=pred.getAnnIds(imgIds=non12)):\n",
    "    final[element['image_id']].append(element)"
   ]
  },
  {
   "cell_type": "code",
   "execution_count": null,
   "metadata": {
    "ExecuteTime": {
     "end_time": "2021-05-09T10:06:45.745367Z",
     "start_time": "2021-05-09T10:06:45.725480Z"
    }
   },
   "outputs": [],
   "source": [
    "flag = False\n",
    "\n",
    "t = 0\n",
    "for element in final.values():\n",
    "    if len(element) != 1:\n",
    "        for i in element:\n",
    "            if i['category_id'] == 12:\n",
    "                flag = True\n",
    "                break\n",
    "        if flag:\n",
    "            for i in element:\n",
    "                print(i)\n",
    "            t += 1\n",
    "            print(\"-------------------------------\")\n",
    "            flag = False\n",
    "            if t == 5:\n",
    "                break"
   ]
  },
  {
   "cell_type": "code",
   "execution_count": null,
   "metadata": {
    "ExecuteTime": {
     "end_time": "2021-05-08T14:37:29.415498Z",
     "start_time": "2021-05-08T14:37:29.408099Z"
    }
   },
   "outputs": [],
   "source": [
    "true.loadAnns(true.getAnnIds(imgIds=2008006656))"
   ]
  },
  {
   "cell_type": "code",
   "execution_count": null,
   "metadata": {
    "ExecuteTime": {
     "end_time": "2021-05-08T10:38:24.951690Z",
     "start_time": "2021-05-08T10:38:24.918608Z"
    }
   },
   "outputs": [],
   "source": [
    "test.getAnnIds(ids=ca)"
   ]
  },
  {
   "cell_type": "code",
   "execution_count": null,
   "metadata": {
    "ExecuteTime": {
     "end_time": "2021-05-08T07:49:28.509885Z",
     "start_time": "2021-05-08T07:49:28.249703Z"
    }
   },
   "outputs": [],
   "source": [
    "test.ious"
   ]
  },
  {
   "cell_type": "code",
   "execution_count": null,
   "metadata": {
    "ExecuteTime": {
     "end_time": "2021-05-06T16:24:22.713837Z",
     "start_time": "2021-05-06T16:24:22.704506Z"
    }
   },
   "outputs": [],
   "source": [
    "for key in test.ious.keys():\n",
    "    if len(test._gts[key]) != 1:\n",
    "        print(key)\n",
    "        print(len(test._gts[key]), len(test._dts[key]), len(test.ious[key]))\n",
    "        print(test._gts[key])\n",
    "        print(test.ious[key].shape)\n",
    "        break"
   ]
  },
  {
   "cell_type": "code",
   "execution_count": null,
   "metadata": {
    "ExecuteTime": {
     "end_time": "2021-05-20T07:31:24.443515Z",
     "start_time": "2021-05-20T07:31:23.956286Z"
    }
   },
   "outputs": [],
   "source": [
    "import torch\n",
    "\n",
    "t = torch.zeros((2,2,5))\n",
    "t[0][0][1] = 1\n",
    "t[0][1][1] = 2\n",
    "t[1][0][1] = 3\n",
    "print(t)"
   ]
  },
  {
   "cell_type": "code",
   "execution_count": null,
   "metadata": {
    "ExecuteTime": {
     "end_time": "2021-05-20T07:32:29.882237Z",
     "start_time": "2021-05-20T07:32:29.875993Z"
    }
   },
   "outputs": [],
   "source": [
    "z = torch.tensor([[True,True],[False,True]])\n",
    "print(z)"
   ]
  },
  {
   "cell_type": "code",
   "execution_count": null,
   "metadata": {
    "ExecuteTime": {
     "end_time": "2021-05-20T07:32:39.207548Z",
     "start_time": "2021-05-20T07:32:39.201070Z"
    }
   },
   "outputs": [],
   "source": []
  },
  {
   "cell_type": "code",
   "execution_count": null,
   "metadata": {
    "ExecuteTime": {
     "end_time": "2021-05-20T07:33:51.484927Z",
     "start_time": "2021-05-20T07:33:51.476065Z"
    }
   },
   "outputs": [],
   "source": [
    "n = t.view(-1,5)\n",
    "print(n)\n",
    "print(n[z.flatten(),:])"
   ]
  },
  {
   "cell_type": "code",
   "execution_count": null,
   "metadata": {},
   "outputs": [],
   "source": []
  }
 ],
 "metadata": {
  "hide_input": false,
  "kernelspec": {
   "display_name": "Python [conda env:shiang]",
   "language": "python",
   "name": "conda-env-shiang-py"
  },
  "language_info": {
   "codemirror_mode": {
    "name": "ipython",
    "version": 3
   },
   "file_extension": ".py",
   "mimetype": "text/x-python",
   "name": "python",
   "nbconvert_exporter": "python",
   "pygments_lexer": "ipython3",
   "version": "3.6.9"
  },
  "varInspector": {
   "cols": {
    "lenName": 16,
    "lenType": 16,
    "lenVar": 40
   },
   "kernels_config": {
    "python": {
     "delete_cmd_postfix": "",
     "delete_cmd_prefix": "del ",
     "library": "var_list.py",
     "varRefreshCmd": "print(var_dic_list())"
    },
    "r": {
     "delete_cmd_postfix": ") ",
     "delete_cmd_prefix": "rm(",
     "library": "var_list.r",
     "varRefreshCmd": "cat(var_dic_list()) "
    }
   },
   "types_to_exclude": [
    "module",
    "function",
    "builtin_function_or_method",
    "instance",
    "_Feature"
   ],
   "window_display": false
  }
 },
 "nbformat": 4,
 "nbformat_minor": 2
}

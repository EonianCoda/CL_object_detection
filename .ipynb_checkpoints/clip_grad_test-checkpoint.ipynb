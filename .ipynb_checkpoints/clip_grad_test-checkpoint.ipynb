{
 "cells": [
  {
   "cell_type": "code",
   "execution_count": 1,
   "metadata": {
    "ExecuteTime": {
     "end_time": "2021-06-29T06:17:07.464373Z",
     "start_time": "2021-06-29T06:17:03.290529Z"
    },
    "code_folding": [],
    "hide_input": false
   },
   "outputs": [
    {
     "name": "stdout",
     "output_type": "stream",
     "text": [
      "loading annotations into memory...\n",
      "Done (t=0.09s)\n",
      "creating index...\n",
      "index created!\n",
      "loading annotations into memory...\n",
      "Done (t=0.05s)\n",
      "creating index...\n",
      "index created!\n",
      "{'id': [[1, 2, 3, 4, 5, 7, 8, 9, 10, 11, 15, 16, 17, 18, 19], [6], [20], [14], [12], [13]], 'name': [['aeroplane', 'bicycle', 'bird', 'boat', 'bottle', 'bus', 'car', 'cat', 'chair', 'cow', 'diningtable', 'dog', 'horse', 'motorbike', 'person'], ['train'], ['sheep'], ['sofa'], ['pottedplant'], ['tvmonitor']]}\n",
      "dataloader class_num = 16\n"
     ]
    }
   ],
   "source": [
    "import numpy as np\n",
    "import os\n",
    "from retinanet import model\n",
    "from retinanet import coco_eval\n",
    "from retinanet.dataloader import CocoDataset_inOrder,rehearsal_DataSet, collater, Resizer, AspectRatioBasedSampler, Augmenter, Normalizer\n",
    "from torchvision import transforms\n",
    "from torch.utils.data import DataLoader\n",
    "import torch.optim as optim\n",
    "import collections\n",
    "import torch\n",
    "root_path = '/home/deeplab307/Documents/Anaconda/Shiang/CL/'\n",
    "method = 'w_distillation'\n",
    "data_split = '15+1'\n",
    "start_round = 2\n",
    "batch_size = 1\n",
    "\n",
    "checkpoint_epoch = 50\n",
    "\n",
    "def checkDir(path):\n",
    "    \"\"\"check whether directory exists or not.If not, then create it \n",
    "    \"\"\"\n",
    "    if not os.path.isdir(path):\n",
    "        os.mkdir(path)\n",
    "def get_checkpoint_path(method, now_round, epoch, data_split =\"None\"):\n",
    "    global root_path\n",
    "    # global data_split\n",
    "    \n",
    "    \n",
    "    checkDir(os.path.join(root_path, 'model', method, 'round{}'.format(now_round)))\n",
    "    checkDir(os.path.join(root_path, 'model', method, 'round{}'.format(now_round), data_split))\n",
    "    \n",
    "    path = os.path.join(root_path, 'model', method, 'round{}'.format(now_round), data_split,'voc_retinanet_{}_checkpoint.pt'.format(epoch))\n",
    "    return path\n",
    "\n",
    "\n",
    "def readCheckpoint(method, now_round, epoch, data_split, retinanet, optimizer = None, scheduler = None):\n",
    "    print('readcheckpoint at Round{} Epoch{}'.format(now_round, epoch))\n",
    "    prev_checkpoint = torch.load(get_checkpoint_path(method, now_round, epoch, data_split))\n",
    "    retinanet.load_state_dict(prev_checkpoint['model_state_dict'])\n",
    "    if optimizer != None:\n",
    "        optimizer.load_state_dict(prev_checkpoint['optimizer_state_dict'])\n",
    "    if scheduler != None:\n",
    "        scheduler.load_state_dict(prev_checkpoint['scheduler_state_dict'])\n",
    "    \n",
    "\n",
    "\n",
    "# coco_path = '/home/deeplab307/Documents/Anaconda/Shiang/CL/DataSet/VOC2012'\n",
    "\n",
    "\n",
    "\n",
    "# dataset_train = CocoDataset_inOrder(coco_path, set_name='TrainVoc2012', dataset = 'voc',\n",
    "#                                     transform=transforms.Compose([Normalizer(), Augmenter(), Resizer()]),\n",
    "#                                    data_split=data_split, start_round=start_round)\n",
    "\n",
    "# # dataset_val = CocoDataset_inOrder(os.path.join(root_path, 'DataSet', 'VOC2012'), set_name=\"ValVoc2012\", dataset = 'voc', \n",
    "# #                 transform=transforms.Compose([Normalizer(), Resizer()]), \n",
    "# #                 start_round=1, data_split = \"20\")\n",
    "\n",
    "dataset_train = CocoDataset_inOrder(os.path.join(root_path, 'DataSet', 'VOC2012'), set_name='TrainVoc2012', dataset = 'voc',\n",
    "                                    transform=transforms.Compose([Normalizer(), Resizer()]),\n",
    "                                   data_split=data_split, start_round=start_round)\n",
    "retinanet = model.resnet50(num_classes=dataset_train.num_classes(), pretrained=True)\n",
    "retinanet.cuda()\n",
    "\n",
    "sampler = AspectRatioBasedSampler(dataset_train, batch_size = batch_size, drop_last=False)\n",
    "dataloader_train = DataLoader(dataset_train, num_workers=2, collate_fn=collater, batch_sampler=sampler)\n",
    "\n",
    "optimizer = optim.Adam(retinanet.parameters(), lr=1e-5)\n",
    "scheduler = optim.lr_scheduler.ReduceLROnPlateau(optimizer, patience=3, verbose=True)\n",
    "# loss_hist = collections.deque(maxlen=500)\n",
    "\n",
    "#readCheckpoint(method, start_round, checkpoint_epoch,data_split, retinanet)"
   ]
  },
  {
   "cell_type": "code",
   "execution_count": 2,
   "metadata": {
    "ExecuteTime": {
     "end_time": "2021-06-29T06:17:07.850287Z",
     "start_time": "2021-06-29T06:17:07.669657Z"
    }
   },
   "outputs": [
    {
     "name": "stdout",
     "output_type": "stream",
     "text": [
      "readcheckpoint at Round2 Epoch20\n"
     ]
    }
   ],
   "source": [
    "readCheckpoint(method, 2, 20,data_split, retinanet, optimizer)"
   ]
  },
  {
   "cell_type": "code",
   "execution_count": 3,
   "metadata": {
    "ExecuteTime": {
     "end_time": "2021-06-29T06:17:09.094434Z",
     "start_time": "2021-06-29T06:17:07.987027Z"
    }
   },
   "outputs": [
    {
     "name": "stdout",
     "output_type": "stream",
     "text": [
      "readcheckpoint at Round1 Epoch50\n"
     ]
    }
   ],
   "source": [
    "prev_model = model.resnet50(num_classes=15, pretrained=True)\n",
    "readCheckpoint(method, 1, 50,data_split, prev_model)\n",
    "retinanet.init_prev_model(prev_model)"
   ]
  },
  {
   "cell_type": "markdown",
   "metadata": {},
   "source": [
    "# 計算所有data loss"
   ]
  },
  {
   "cell_type": "code",
   "execution_count": 13,
   "metadata": {
    "ExecuteTime": {
     "end_time": "2021-06-29T06:24:42.775100Z",
     "start_time": "2021-06-29T06:23:43.991766Z"
    }
   },
   "outputs": [
    {
     "name": "stdout",
     "output_type": "stream",
     "text": [
      "unfreeze resnet\n",
      "Iteration: 0 | Class loss: 0.4215 | Reg loss: 0.5193 | dis_class_loss: 0.0061 | dis_reg_loss: 0.0097 | dis_feat_loss: 0.0224 | Spend Time:0.15s\n",
      "Iteration: 1 | Class loss: 0.6358 | Reg loss: 0.7972 | dis_class_loss: 0.0065 | dis_reg_loss: 0.0109 | dis_feat_loss: 0.0226 | Spend Time:0.12s\n",
      "Iteration: 2 | Class loss: 0.9089 | Reg loss: 0.5037 | dis_class_loss: 0.0000 | dis_reg_loss: 0.0000 | dis_feat_loss: 0.0110 | Spend Time:0.11s\n",
      "Iteration: 3 | Class loss: 0.4843 | Reg loss: 0.5211 | dis_class_loss: 0.0254 | dis_reg_loss: 0.0409 | dis_feat_loss: 0.0252 | Spend Time:0.12s\n",
      "Iteration: 4 | Class loss: 0.2465 | Reg loss: 0.1521 | dis_class_loss: 0.0484 | dis_reg_loss: 0.0223 | dis_feat_loss: 0.0215 | Spend Time:0.10s\n",
      "Iteration: 5 | Class loss: 0.2452 | Reg loss: 0.1942 | dis_class_loss: 0.0782 | dis_reg_loss: 0.0117 | dis_feat_loss: 0.0227 | Spend Time:0.11s\n",
      "Iteration: 6 | Class loss: 0.4927 | Reg loss: 0.5612 | dis_class_loss: 0.0501 | dis_reg_loss: 0.1007 | dis_feat_loss: 0.0210 | Spend Time:0.10s\n",
      "Iteration: 7 | Class loss: 0.9347 | Reg loss: 0.7383 | dis_class_loss: 0.0073 | dis_reg_loss: 0.0116 | dis_feat_loss: 0.0257 | Spend Time:0.11s\n",
      "Iteration: 8 | Class loss: 0.3916 | Reg loss: 0.5784 | dis_class_loss: 0.0070 | dis_reg_loss: 0.0110 | dis_feat_loss: 0.0122 | Spend Time:0.11s\n",
      "Iteration: 9 | Class loss: 0.5278 | Reg loss: 0.4971 | dis_class_loss: 0.0072 | dis_reg_loss: 0.0126 | dis_feat_loss: 0.0206 | Spend Time:0.11s\n",
      "Iteration: 10 | Class loss: 0.7107 | Reg loss: 0.7500 | dis_class_loss: 0.0209 | dis_reg_loss: 0.0059 | dis_feat_loss: 0.0160 | Spend Time:0.11s\n",
      "Iteration: 11 | Class loss: 0.6864 | Reg loss: 0.4024 | dis_class_loss: 0.0000 | dis_reg_loss: 0.0000 | dis_feat_loss: 0.0131 | Spend Time:0.10s\n",
      "Iteration: 12 | Class loss: 0.4801 | Reg loss: 0.2386 | dis_class_loss: 0.0008 | dis_reg_loss: 0.0207 | dis_feat_loss: 0.0169 | Spend Time:0.10s\n",
      "Iteration: 13 | Class loss: 1.1372 | Reg loss: 0.7642 | dis_class_loss: 0.0107 | dis_reg_loss: 0.0092 | dis_feat_loss: 0.0271 | Spend Time:0.11s\n",
      "Iteration: 14 | Class loss: 1.0493 | Reg loss: 0.7918 | dis_class_loss: 0.0090 | dis_reg_loss: 0.0167 | dis_feat_loss: 0.0240 | Spend Time:0.10s\n",
      "Iteration: 15 | Class loss: 0.8511 | Reg loss: 0.7646 | dis_class_loss: 0.0093 | dis_reg_loss: 0.0218 | dis_feat_loss: 0.0331 | Spend Time:0.10s\n",
      "Iteration: 16 | Class loss: 0.2144 | Reg loss: 0.4815 | dis_class_loss: 0.0078 | dis_reg_loss: 0.1829 | dis_feat_loss: 0.0164 | Spend Time:0.11s\n",
      "Iteration: 17 | Class loss: 0.2248 | Reg loss: 0.0000 | dis_class_loss: 0.0059 | dis_reg_loss: 0.0051 | dis_feat_loss: 0.0159 | Spend Time:0.10s\n",
      "Iteration: 18 | Class loss: 0.4611 | Reg loss: 0.3825 | dis_class_loss: 0.0098 | dis_reg_loss: 0.0369 | dis_feat_loss: 0.0245 | Spend Time:0.11s\n",
      "Iteration: 19 | Class loss: 0.3405 | Reg loss: 0.3578 | dis_class_loss: 0.0064 | dis_reg_loss: 0.0043 | dis_feat_loss: 0.0155 | Spend Time:0.11s\n",
      "Iteration: 20 | Class loss: 0.3092 | Reg loss: 0.5029 | dis_class_loss: 0.0295 | dis_reg_loss: 0.0245 | dis_feat_loss: 0.0296 | Spend Time:0.11s\n",
      "Iteration: 21 | Class loss: 0.1273 | Reg loss: 0.1770 | dis_class_loss: 0.1139 | dis_reg_loss: 0.0136 | dis_feat_loss: 0.0214 | Spend Time:0.11s\n",
      "Iteration: 22 | Class loss: 1.1666 | Reg loss: 0.3212 | dis_class_loss: 0.0009 | dis_reg_loss: 0.1437 | dis_feat_loss: 0.0226 | Spend Time:0.10s\n",
      "Iteration: 23 | Class loss: 0.2015 | Reg loss: 0.1260 | dis_class_loss: 0.1173 | dis_reg_loss: 0.0215 | dis_feat_loss: 0.0293 | Spend Time:0.11s\n",
      "Iteration: 24 | Class loss: 0.8914 | Reg loss: 0.5228 | dis_class_loss: 0.0668 | dis_reg_loss: 0.0135 | dis_feat_loss: 0.0224 | Spend Time:0.11s\n",
      "Iteration: 25 | Class loss: 0.3432 | Reg loss: 0.3019 | dis_class_loss: 0.0428 | dis_reg_loss: 0.0584 | dis_feat_loss: 0.0188 | Spend Time:0.11s\n",
      "Iteration: 26 | Class loss: 0.2439 | Reg loss: 0.2886 | dis_class_loss: 0.0196 | dis_reg_loss: 0.0300 | dis_feat_loss: 0.0250 | Spend Time:0.11s\n",
      "Iteration: 27 | Class loss: 0.3725 | Reg loss: 0.4282 | dis_class_loss: 0.0108 | dis_reg_loss: 0.0320 | dis_feat_loss: 0.0154 | Spend Time:0.11s\n",
      "Iteration: 28 | Class loss: 0.0325 | Reg loss: 0.0000 | dis_class_loss: 0.0336 | dis_reg_loss: 0.0353 | dis_feat_loss: 0.0085 | Spend Time:0.10s\n",
      "Iteration: 29 | Class loss: 0.5054 | Reg loss: 0.4877 | dis_class_loss: 0.0039 | dis_reg_loss: 0.0084 | dis_feat_loss: 0.0247 | Spend Time:0.11s\n",
      "Iteration: 30 | Class loss: 0.3511 | Reg loss: 0.4756 | dis_class_loss: 0.0269 | dis_reg_loss: 0.0079 | dis_feat_loss: 0.0203 | Spend Time:0.11s\n",
      "Iteration: 31 | Class loss: 0.2854 | Reg loss: 0.2956 | dis_class_loss: 0.0044 | dis_reg_loss: 0.0103 | dis_feat_loss: 0.0208 | Spend Time:0.11s\n",
      "Iteration: 32 | Class loss: 0.6733 | Reg loss: 0.6476 | dis_class_loss: 0.0123 | dis_reg_loss: 0.0436 | dis_feat_loss: 0.0175 | Spend Time:0.11s\n",
      "Iteration: 33 | Class loss: 0.5822 | Reg loss: 0.4415 | dis_class_loss: 0.0070 | dis_reg_loss: 0.0193 | dis_feat_loss: 0.0230 | Spend Time:0.11s\n",
      "Iteration: 34 | Class loss: 0.4427 | Reg loss: 0.1778 | dis_class_loss: 0.0032 | dis_reg_loss: 0.0624 | dis_feat_loss: 0.0186 | Spend Time:0.11s\n",
      "Iteration: 35 | Class loss: 0.1793 | Reg loss: 0.2824 | dis_class_loss: 0.0120 | dis_reg_loss: 0.0139 | dis_feat_loss: 0.0170 | Spend Time:0.11s\n",
      "Iteration: 36 | Class loss: 0.7540 | Reg loss: 0.5841 | dis_class_loss: 0.0050 | dis_reg_loss: 0.0360 | dis_feat_loss: 0.0284 | Spend Time:0.11s\n",
      "Iteration: 37 | Class loss: 0.6146 | Reg loss: 0.5335 | dis_class_loss: 0.0010 | dis_reg_loss: 0.0160 | dis_feat_loss: 0.0192 | Spend Time:0.11s\n",
      "Iteration: 38 | Class loss: 0.1732 | Reg loss: 0.3259 | dis_class_loss: 0.0996 | dis_reg_loss: 0.0239 | dis_feat_loss: 0.0252 | Spend Time:0.11s\n",
      "Iteration: 39 | Class loss: 0.4244 | Reg loss: 0.3091 | dis_class_loss: 0.0028 | dis_reg_loss: 0.0278 | dis_feat_loss: 0.0138 | Spend Time:0.10s\n",
      "Iteration: 40 | Class loss: 0.3357 | Reg loss: 0.3402 | dis_class_loss: 0.0137 | dis_reg_loss: 0.0246 | dis_feat_loss: 0.0254 | Spend Time:0.11s\n",
      "Iteration: 41 | Class loss: 0.1445 | Reg loss: 0.1969 | dis_class_loss: 0.1010 | dis_reg_loss: 0.0918 | dis_feat_loss: 0.0187 | Spend Time:0.11s\n",
      "Iteration: 42 | Class loss: 0.7843 | Reg loss: 0.3724 | dis_class_loss: 0.0445 | dis_reg_loss: 0.0185 | dis_feat_loss: 0.0241 | Spend Time:0.10s\n",
      "Iteration: 43 | Class loss: 0.2452 | Reg loss: 0.3523 | dis_class_loss: 0.0062 | dis_reg_loss: 0.0075 | dis_feat_loss: 0.0304 | Spend Time:0.11s\n",
      "Iteration: 44 | Class loss: 0.2313 | Reg loss: 0.5496 | dis_class_loss: 0.0043 | dis_reg_loss: 0.0467 | dis_feat_loss: 0.0186 | Spend Time:0.11s\n",
      "Iteration: 45 | Class loss: 0.7411 | Reg loss: 0.3135 | dis_class_loss: 0.0051 | dis_reg_loss: 0.0066 | dis_feat_loss: 0.0210 | Spend Time:0.11s\n",
      "Iteration: 46 | Class loss: 0.5568 | Reg loss: 0.5741 | dis_class_loss: 0.0039 | dis_reg_loss: 0.0045 | dis_feat_loss: 0.0141 | Spend Time:0.11s\n",
      "Iteration: 47 | Class loss: 0.2177 | Reg loss: 0.1131 | dis_class_loss: 0.0323 | dis_reg_loss: 0.0199 | dis_feat_loss: 0.0238 | Spend Time:0.12s\n",
      "Iteration: 48 | Class loss: 0.8476 | Reg loss: 0.5386 | dis_class_loss: 0.0071 | dis_reg_loss: 0.0127 | dis_feat_loss: 0.0220 | Spend Time:0.11s\n",
      "Iteration: 49 | Class loss: 0.5682 | Reg loss: 0.6694 | dis_class_loss: 0.0050 | dis_reg_loss: 0.0106 | dis_feat_loss: 0.0201 | Spend Time:0.11s\n",
      "Iteration: 50 | Class loss: 0.7154 | Reg loss: 0.8150 | dis_class_loss: 0.0000 | dis_reg_loss: 0.0000 | dis_feat_loss: 0.0234 | Spend Time:0.09s\n",
      "Iteration: 51 | Class loss: 0.1667 | Reg loss: 0.4225 | dis_class_loss: 0.0000 | dis_reg_loss: 0.0000 | dis_feat_loss: 0.0147 | Spend Time:0.10s\n",
      "Iteration: 52 | Class loss: 0.1074 | Reg loss: 0.0000 | dis_class_loss: 0.0051 | dis_reg_loss: 0.0623 | dis_feat_loss: 0.0229 | Spend Time:0.10s\n",
      "Iteration: 53 | Class loss: 0.1759 | Reg loss: 0.2051 | dis_class_loss: 0.0034 | dis_reg_loss: 0.0127 | dis_feat_loss: 0.0188 | Spend Time:0.11s\n",
      "Iteration: 54 | Class loss: 0.2884 | Reg loss: 0.1731 | dis_class_loss: 0.0022 | dis_reg_loss: 0.1056 | dis_feat_loss: 0.0165 | Spend Time:0.10s\n",
      "Iteration: 55 | Class loss: 0.5808 | Reg loss: 0.3163 | dis_class_loss: 0.0347 | dis_reg_loss: 0.0261 | dis_feat_loss: 0.0226 | Spend Time:0.11s\n",
      "Iteration: 56 | Class loss: 0.2695 | Reg loss: 0.4673 | dis_class_loss: 0.0086 | dis_reg_loss: 0.0246 | dis_feat_loss: 0.0173 | Spend Time:0.11s\n"
     ]
    },
    {
     "name": "stdout",
     "output_type": "stream",
     "text": [
      "Iteration: 57 | Class loss: 0.6048 | Reg loss: 0.6589 | dis_class_loss: 0.0074 | dis_reg_loss: 0.0097 | dis_feat_loss: 0.0300 | Spend Time:0.11s\n",
      "Iteration: 58 | Class loss: 0.4967 | Reg loss: 0.4226 | dis_class_loss: 0.0053 | dis_reg_loss: 0.0254 | dis_feat_loss: 0.0248 | Spend Time:0.10s\n",
      "Iteration: 59 | Class loss: 0.3279 | Reg loss: 0.0688 | dis_class_loss: 0.0519 | dis_reg_loss: 0.0300 | dis_feat_loss: 0.0270 | Spend Time:0.10s\n",
      "Iteration: 60 | Class loss: 0.2835 | Reg loss: 0.2257 | dis_class_loss: 0.0052 | dis_reg_loss: 0.0078 | dis_feat_loss: 0.0143 | Spend Time:0.11s\n",
      "Iteration: 61 | Class loss: 0.3895 | Reg loss: 0.1780 | dis_class_loss: 0.0121 | dis_reg_loss: 0.0196 | dis_feat_loss: 0.0282 | Spend Time:0.11s\n",
      "Iteration: 62 | Class loss: 0.4815 | Reg loss: 0.4620 | dis_class_loss: 0.0215 | dis_reg_loss: 0.0917 | dis_feat_loss: 0.0085 | Spend Time:0.12s\n",
      "Iteration: 63 | Class loss: 0.4284 | Reg loss: 0.7234 | dis_class_loss: 0.0252 | dis_reg_loss: 0.0320 | dis_feat_loss: 0.0224 | Spend Time:0.11s\n",
      "Iteration: 64 | Class loss: 0.0988 | Reg loss: 0.2446 | dis_class_loss: 0.0246 | dis_reg_loss: 0.0981 | dis_feat_loss: 0.0208 | Spend Time:0.11s\n",
      "Iteration: 65 | Class loss: 0.0709 | Reg loss: 0.0000 | dis_class_loss: 0.0091 | dis_reg_loss: 0.0231 | dis_feat_loss: 0.0175 | Spend Time:0.11s\n",
      "Iteration: 66 | Class loss: 0.0759 | Reg loss: 0.0905 | dis_class_loss: 0.0068 | dis_reg_loss: 0.0064 | dis_feat_loss: 0.0232 | Spend Time:0.11s\n",
      "Iteration: 67 | Class loss: 0.6283 | Reg loss: 0.8965 | dis_class_loss: 0.0198 | dis_reg_loss: 0.0270 | dis_feat_loss: 0.0244 | Spend Time:0.11s\n",
      "Iteration: 68 | Class loss: 0.4477 | Reg loss: 0.3477 | dis_class_loss: 0.0161 | dis_reg_loss: 0.0204 | dis_feat_loss: 0.0110 | Spend Time:0.11s\n",
      "Iteration: 69 | Class loss: 0.4686 | Reg loss: 0.3592 | dis_class_loss: 0.0020 | dis_reg_loss: 0.0201 | dis_feat_loss: 0.0151 | Spend Time:0.11s\n",
      "Iteration: 70 | Class loss: 0.4139 | Reg loss: 0.3751 | dis_class_loss: 0.0062 | dis_reg_loss: 0.0084 | dis_feat_loss: 0.0201 | Spend Time:0.11s\n",
      "Iteration: 71 | Class loss: 0.0385 | Reg loss: 0.1875 | dis_class_loss: 0.2019 | dis_reg_loss: 0.0090 | dis_feat_loss: 0.0214 | Spend Time:0.11s\n",
      "Iteration: 72 | Class loss: 0.5538 | Reg loss: 0.1658 | dis_class_loss: 0.0363 | dis_reg_loss: 0.0112 | dis_feat_loss: 0.0174 | Spend Time:0.11s\n",
      "Iteration: 73 | Class loss: 0.8095 | Reg loss: 0.5429 | dis_class_loss: 0.0034 | dis_reg_loss: 0.0142 | dis_feat_loss: 0.0171 | Spend Time:0.11s\n",
      "Iteration: 74 | Class loss: 0.1229 | Reg loss: 0.2228 | dis_class_loss: 0.0113 | dis_reg_loss: 0.0636 | dis_feat_loss: 0.0205 | Spend Time:0.11s\n",
      "Iteration: 75 | Class loss: 0.0811 | Reg loss: 0.0000 | dis_class_loss: 0.0021 | dis_reg_loss: 0.0050 | dis_feat_loss: 0.0145 | Spend Time:0.11s\n",
      "Iteration: 76 | Class loss: 0.2698 | Reg loss: 0.2128 | dis_class_loss: 0.0536 | dis_reg_loss: 0.2397 | dis_feat_loss: 0.0120 | Spend Time:0.11s\n",
      "Iteration: 77 | Class loss: 0.4410 | Reg loss: 0.1116 | dis_class_loss: 0.0411 | dis_reg_loss: 0.0485 | dis_feat_loss: 0.0185 | Spend Time:0.11s\n",
      "Iteration: 78 | Class loss: 0.0242 | Reg loss: 0.0000 | dis_class_loss: 0.0016 | dis_reg_loss: 0.0520 | dis_feat_loss: 0.0119 | Spend Time:0.10s\n",
      "Iteration: 79 | Class loss: 0.7518 | Reg loss: 1.1036 | dis_class_loss: 0.0074 | dis_reg_loss: 0.0317 | dis_feat_loss: 0.0219 | Spend Time:0.11s\n",
      "Iteration: 80 | Class loss: 0.5741 | Reg loss: 0.5516 | dis_class_loss: 0.0004 | dis_reg_loss: 0.0453 | dis_feat_loss: 0.0217 | Spend Time:0.11s\n",
      "Iteration: 81 | Class loss: 0.6044 | Reg loss: 0.5186 | dis_class_loss: 0.0015 | dis_reg_loss: 0.0187 | dis_feat_loss: 0.0170 | Spend Time:0.11s\n",
      "Iteration: 82 | Class loss: 0.2963 | Reg loss: 0.1249 | dis_class_loss: 0.0127 | dis_reg_loss: 0.0825 | dis_feat_loss: 0.0196 | Spend Time:0.11s\n",
      "Iteration: 83 | Class loss: 0.4515 | Reg loss: 0.4550 | dis_class_loss: 0.0047 | dis_reg_loss: 0.0282 | dis_feat_loss: 0.0178 | Spend Time:0.11s\n",
      "Iteration: 84 | Class loss: 0.2832 | Reg loss: 0.3962 | dis_class_loss: 0.0081 | dis_reg_loss: 0.0200 | dis_feat_loss: 0.0206 | Spend Time:0.11s\n",
      "Iteration: 85 | Class loss: 0.5049 | Reg loss: 0.4437 | dis_class_loss: 0.0054 | dis_reg_loss: 0.0248 | dis_feat_loss: 0.0191 | Spend Time:0.11s\n",
      "Iteration: 86 | Class loss: 0.4198 | Reg loss: 0.4872 | dis_class_loss: 0.0032 | dis_reg_loss: 0.0090 | dis_feat_loss: 0.0180 | Spend Time:0.11s\n",
      "Iteration: 87 | Class loss: 0.1237 | Reg loss: 0.1220 | dis_class_loss: 0.0054 | dis_reg_loss: 0.0289 | dis_feat_loss: 0.0200 | Spend Time:0.11s\n",
      "Iteration: 88 | Class loss: 0.1788 | Reg loss: 0.1299 | dis_class_loss: 0.0043 | dis_reg_loss: 0.0127 | dis_feat_loss: 0.0308 | Spend Time:0.11s\n",
      "Iteration: 89 | Class loss: 0.0879 | Reg loss: 0.3702 | dis_class_loss: 0.0040 | dis_reg_loss: 0.0060 | dis_feat_loss: 0.0216 | Spend Time:0.11s\n",
      "Iteration: 90 | Class loss: 0.2682 | Reg loss: 0.0820 | dis_class_loss: 0.1130 | dis_reg_loss: 0.0172 | dis_feat_loss: 0.0236 | Spend Time:0.11s\n",
      "Iteration: 91 | Class loss: 0.2323 | Reg loss: 0.3017 | dis_class_loss: 0.0054 | dis_reg_loss: 0.0485 | dis_feat_loss: 0.0173 | Spend Time:0.11s\n",
      "Iteration: 92 | Class loss: 0.8436 | Reg loss: 0.5250 | dis_class_loss: 0.0033 | dis_reg_loss: 0.0153 | dis_feat_loss: 0.0205 | Spend Time:0.11s\n",
      "Iteration: 93 | Class loss: 0.2764 | Reg loss: 0.5304 | dis_class_loss: 0.0123 | dis_reg_loss: 0.0113 | dis_feat_loss: 0.0198 | Spend Time:0.11s\n",
      "Iteration: 94 | Class loss: 0.4935 | Reg loss: 0.2853 | dis_class_loss: 0.0394 | dis_reg_loss: 0.0245 | dis_feat_loss: 0.0151 | Spend Time:0.11s\n",
      "Iteration: 95 | Class loss: 0.5534 | Reg loss: 0.8972 | dis_class_loss: 0.0060 | dis_reg_loss: 0.0080 | dis_feat_loss: 0.0168 | Spend Time:0.11s\n",
      "Iteration: 96 | Class loss: 0.4003 | Reg loss: 0.7064 | dis_class_loss: 0.0080 | dis_reg_loss: 0.0128 | dis_feat_loss: 0.0228 | Spend Time:0.12s\n",
      "Iteration: 97 | Class loss: 1.2563 | Reg loss: 0.8160 | dis_class_loss: 0.0037 | dis_reg_loss: 0.0072 | dis_feat_loss: 0.0203 | Spend Time:0.11s\n",
      "Iteration: 98 | Class loss: 0.5654 | Reg loss: 0.6871 | dis_class_loss: 0.0060 | dis_reg_loss: 0.0066 | dis_feat_loss: 0.0171 | Spend Time:0.11s\n",
      "Iteration: 99 | Class loss: 0.2950 | Reg loss: 0.3309 | dis_class_loss: 0.0423 | dis_reg_loss: 0.0443 | dis_feat_loss: 0.0175 | Spend Time:0.11s\n",
      "Iteration: 100 | Class loss: 0.6021 | Reg loss: 0.5904 | dis_class_loss: 0.0103 | dis_reg_loss: 0.0746 | dis_feat_loss: 0.0185 | Spend Time:0.11s\n",
      "Iteration: 101 | Class loss: 0.9958 | Reg loss: 0.4058 | dis_class_loss: 0.0045 | dis_reg_loss: 0.0057 | dis_feat_loss: 0.0206 | Spend Time:0.11s\n",
      "Iteration: 102 | Class loss: 0.6542 | Reg loss: 0.2415 | dis_class_loss: 0.0068 | dis_reg_loss: 0.0144 | dis_feat_loss: 0.0258 | Spend Time:0.11s\n",
      "Iteration: 103 | Class loss: 0.7807 | Reg loss: 0.3870 | dis_class_loss: 0.2099 | dis_reg_loss: 0.0084 | dis_feat_loss: 0.0310 | Spend Time:0.11s\n",
      "Iteration: 104 | Class loss: 0.7486 | Reg loss: 0.3210 | dis_class_loss: 0.0124 | dis_reg_loss: 0.0076 | dis_feat_loss: 0.0220 | Spend Time:0.12s\n",
      "Iteration: 105 | Class loss: 0.2595 | Reg loss: 0.4946 | dis_class_loss: 0.0006 | dis_reg_loss: 0.0706 | dis_feat_loss: 0.0144 | Spend Time:0.11s\n",
      "Iteration: 106 | Class loss: 0.2762 | Reg loss: 0.2901 | dis_class_loss: 0.0300 | dis_reg_loss: 0.0213 | dis_feat_loss: 0.0222 | Spend Time:0.11s\n",
      "Iteration: 107 | Class loss: 0.4867 | Reg loss: 0.4698 | dis_class_loss: 0.0013 | dis_reg_loss: 0.0720 | dis_feat_loss: 0.0228 | Spend Time:0.11s\n",
      "Iteration: 108 | Class loss: 0.2643 | Reg loss: 0.3051 | dis_class_loss: 0.0015 | dis_reg_loss: 0.0218 | dis_feat_loss: 0.0137 | Spend Time:0.11s\n",
      "Iteration: 109 | Class loss: 1.6246 | Reg loss: 0.9011 | dis_class_loss: 0.0093 | dis_reg_loss: 0.0041 | dis_feat_loss: 0.0102 | Spend Time:0.11s\n",
      "Iteration: 110 | Class loss: 0.2858 | Reg loss: 0.4743 | dis_class_loss: 0.0036 | dis_reg_loss: 0.0297 | dis_feat_loss: 0.0266 | Spend Time:0.11s\n",
      "Iteration: 111 | Class loss: 0.0611 | Reg loss: 0.0545 | dis_class_loss: 0.2867 | dis_reg_loss: 0.0052 | dis_feat_loss: 0.0313 | Spend Time:0.11s\n",
      "Iteration: 112 | Class loss: 0.0830 | Reg loss: 0.0000 | dis_class_loss: 0.0111 | dis_reg_loss: 0.0204 | dis_feat_loss: 0.0345 | Spend Time:0.11s\n",
      "Iteration: 113 | Class loss: 0.5165 | Reg loss: 0.4055 | dis_class_loss: 0.0061 | dis_reg_loss: 0.0236 | dis_feat_loss: 0.0223 | Spend Time:0.11s\n"
     ]
    },
    {
     "name": "stdout",
     "output_type": "stream",
     "text": [
      "Iteration: 114 | Class loss: 0.5148 | Reg loss: 0.4843 | dis_class_loss: 0.0044 | dis_reg_loss: 0.0088 | dis_feat_loss: 0.0218 | Spend Time:0.11s\n",
      "Iteration: 115 | Class loss: 0.5639 | Reg loss: 0.6149 | dis_class_loss: 0.0397 | dis_reg_loss: 0.0453 | dis_feat_loss: 0.0140 | Spend Time:0.11s\n",
      "Iteration: 116 | Class loss: 0.7690 | Reg loss: 0.7509 | dis_class_loss: 0.0041 | dis_reg_loss: 0.0149 | dis_feat_loss: 0.0226 | Spend Time:0.11s\n",
      "Iteration: 117 | Class loss: 0.2375 | Reg loss: 0.1629 | dis_class_loss: 0.0089 | dis_reg_loss: 0.1967 | dis_feat_loss: 0.0124 | Spend Time:0.11s\n",
      "Iteration: 118 | Class loss: 0.0573 | Reg loss: 0.0000 | dis_class_loss: 0.0072 | dis_reg_loss: 0.0191 | dis_feat_loss: 0.0182 | Spend Time:0.11s\n",
      "Iteration: 119 | Class loss: 0.4122 | Reg loss: 0.2019 | dis_class_loss: 0.0070 | dis_reg_loss: 0.0074 | dis_feat_loss: 0.0124 | Spend Time:0.11s\n",
      "Iteration: 120 | Class loss: 0.8177 | Reg loss: 0.3658 | dis_class_loss: 0.0121 | dis_reg_loss: 0.0182 | dis_feat_loss: 0.0247 | Spend Time:0.10s\n",
      "Iteration: 121 | Class loss: 0.1657 | Reg loss: 0.1550 | dis_class_loss: 0.0788 | dis_reg_loss: 0.0462 | dis_feat_loss: 0.0137 | Spend Time:0.11s\n",
      "Iteration: 122 | Class loss: 0.3668 | Reg loss: 0.3730 | dis_class_loss: 0.0580 | dis_reg_loss: 0.0266 | dis_feat_loss: 0.0243 | Spend Time:0.11s\n",
      "Iteration: 123 | Class loss: 0.8009 | Reg loss: 0.4181 | dis_class_loss: 0.0557 | dis_reg_loss: 0.0284 | dis_feat_loss: 0.0295 | Spend Time:0.10s\n",
      "Iteration: 124 | Class loss: 0.2870 | Reg loss: 0.3299 | dis_class_loss: 0.0100 | dis_reg_loss: 0.0202 | dis_feat_loss: 0.0161 | Spend Time:0.11s\n",
      "Iteration: 125 | Class loss: 0.3026 | Reg loss: 0.2759 | dis_class_loss: 0.0001 | dis_reg_loss: 0.0234 | dis_feat_loss: 0.0179 | Spend Time:0.11s\n",
      "Iteration: 126 | Class loss: 1.4313 | Reg loss: 1.0522 | dis_class_loss: 0.0076 | dis_reg_loss: 0.0233 | dis_feat_loss: 0.0292 | Spend Time:0.11s\n",
      "Iteration: 127 | Class loss: 0.1959 | Reg loss: 0.3015 | dis_class_loss: 0.0000 | dis_reg_loss: 0.0000 | dis_feat_loss: 0.0134 | Spend Time:0.11s\n",
      "Iteration: 128 | Class loss: 0.3142 | Reg loss: 0.3888 | dis_class_loss: 0.0039 | dis_reg_loss: 0.0200 | dis_feat_loss: 0.0246 | Spend Time:0.11s\n",
      "Iteration: 129 | Class loss: 0.1832 | Reg loss: 0.1396 | dis_class_loss: 0.0213 | dis_reg_loss: 0.0045 | dis_feat_loss: 0.0244 | Spend Time:0.11s\n",
      "Iteration: 130 | Class loss: 0.3767 | Reg loss: 0.4078 | dis_class_loss: 0.0103 | dis_reg_loss: 0.0192 | dis_feat_loss: 0.0229 | Spend Time:0.11s\n",
      "Iteration: 131 | Class loss: 0.3900 | Reg loss: 0.4196 | dis_class_loss: 0.0447 | dis_reg_loss: 0.0354 | dis_feat_loss: 0.0195 | Spend Time:0.11s\n",
      "Iteration: 132 | Class loss: 0.5752 | Reg loss: 0.2905 | dis_class_loss: 0.0006 | dis_reg_loss: 0.0156 | dis_feat_loss: 0.0176 | Spend Time:0.11s\n",
      "Iteration: 133 | Class loss: 0.2200 | Reg loss: 0.4037 | dis_class_loss: 0.0086 | dis_reg_loss: 0.0766 | dis_feat_loss: 0.0256 | Spend Time:0.11s\n",
      "Iteration: 134 | Class loss: 0.8049 | Reg loss: 0.7013 | dis_class_loss: 0.0518 | dis_reg_loss: 0.0303 | dis_feat_loss: 0.0109 | Spend Time:0.11s\n",
      "Iteration: 135 | Class loss: 0.1901 | Reg loss: 0.3274 | dis_class_loss: 0.0264 | dis_reg_loss: 0.1075 | dis_feat_loss: 0.0174 | Spend Time:0.11s\n",
      "Iteration: 136 | Class loss: 0.1136 | Reg loss: 0.2934 | dis_class_loss: 0.0112 | dis_reg_loss: 0.0601 | dis_feat_loss: 0.0301 | Spend Time:0.11s\n",
      "Iteration: 137 | Class loss: 0.4953 | Reg loss: 0.3971 | dis_class_loss: 0.0357 | dis_reg_loss: 0.0090 | dis_feat_loss: 0.0291 | Spend Time:0.11s\n",
      "Iteration: 138 | Class loss: 0.3382 | Reg loss: 0.3545 | dis_class_loss: 0.0012 | dis_reg_loss: 0.0153 | dis_feat_loss: 0.0181 | Spend Time:0.11s\n",
      "Iteration: 139 | Class loss: 0.1980 | Reg loss: 0.4562 | dis_class_loss: 0.0182 | dis_reg_loss: 0.0162 | dis_feat_loss: 0.0214 | Spend Time:0.11s\n",
      "Iteration: 140 | Class loss: 0.3636 | Reg loss: 0.3059 | dis_class_loss: 0.0016 | dis_reg_loss: 0.0016 | dis_feat_loss: 0.0176 | Spend Time:0.11s\n",
      "Iteration: 141 | Class loss: 0.5375 | Reg loss: 0.3375 | dis_class_loss: 0.0717 | dis_reg_loss: 0.0200 | dis_feat_loss: 0.0216 | Spend Time:0.11s\n",
      "Iteration: 142 | Class loss: 0.2735 | Reg loss: 0.1460 | dis_class_loss: 0.0221 | dis_reg_loss: 0.0171 | dis_feat_loss: 0.0186 | Spend Time:0.11s\n",
      "Iteration: 143 | Class loss: 0.2175 | Reg loss: 0.4078 | dis_class_loss: 0.0071 | dis_reg_loss: 0.0340 | dis_feat_loss: 0.0153 | Spend Time:0.11s\n",
      "Iteration: 144 | Class loss: 1.2351 | Reg loss: 0.5837 | dis_class_loss: 0.0045 | dis_reg_loss: 0.0074 | dis_feat_loss: 0.0133 | Spend Time:0.11s\n",
      "Iteration: 145 | Class loss: 0.5932 | Reg loss: 0.3007 | dis_class_loss: 0.0439 | dis_reg_loss: 0.0059 | dis_feat_loss: 0.0238 | Spend Time:0.11s\n",
      "Iteration: 146 | Class loss: 0.5692 | Reg loss: 0.3330 | dis_class_loss: 0.0304 | dis_reg_loss: 0.0234 | dis_feat_loss: 0.0259 | Spend Time:0.11s\n",
      "Iteration: 147 | Class loss: 0.6435 | Reg loss: 0.6676 | dis_class_loss: 0.0047 | dis_reg_loss: 0.0769 | dis_feat_loss: 0.0136 | Spend Time:0.11s\n",
      "Iteration: 148 | Class loss: 0.5202 | Reg loss: 0.2527 | dis_class_loss: 0.0777 | dis_reg_loss: 0.0250 | dis_feat_loss: 0.0207 | Spend Time:0.11s\n",
      "Iteration: 149 | Class loss: 0.5640 | Reg loss: 0.3634 | dis_class_loss: 0.0056 | dis_reg_loss: 0.0078 | dis_feat_loss: 0.0183 | Spend Time:0.11s\n",
      "Iteration: 150 | Class loss: 0.4820 | Reg loss: 0.4847 | dis_class_loss: 0.0019 | dis_reg_loss: 0.0377 | dis_feat_loss: 0.0112 | Spend Time:0.11s\n",
      "Iteration: 151 | Class loss: 0.5448 | Reg loss: 0.3591 | dis_class_loss: 0.0083 | dis_reg_loss: 0.0238 | dis_feat_loss: 0.0154 | Spend Time:0.10s\n",
      "Iteration: 152 | Class loss: 0.2476 | Reg loss: 0.2159 | dis_class_loss: 0.0028 | dis_reg_loss: 0.0189 | dis_feat_loss: 0.0250 | Spend Time:0.11s\n",
      "Iteration: 153 | Class loss: 0.1985 | Reg loss: 0.4464 | dis_class_loss: 0.0082 | dis_reg_loss: 0.0274 | dis_feat_loss: 0.0245 | Spend Time:0.11s\n",
      "Iteration: 154 | Class loss: 0.2140 | Reg loss: 0.5446 | dis_class_loss: 0.0007 | dis_reg_loss: 0.0240 | dis_feat_loss: 0.0205 | Spend Time:0.11s\n",
      "Iteration: 155 | Class loss: 0.3530 | Reg loss: 0.3394 | dis_class_loss: 0.0051 | dis_reg_loss: 0.0324 | dis_feat_loss: 0.0159 | Spend Time:0.11s\n",
      "Iteration: 156 | Class loss: 0.3814 | Reg loss: 0.4436 | dis_class_loss: 0.0009 | dis_reg_loss: 0.0298 | dis_feat_loss: 0.0196 | Spend Time:0.11s\n",
      "Iteration: 157 | Class loss: 1.0133 | Reg loss: 0.9108 | dis_class_loss: 0.0530 | dis_reg_loss: 0.0211 | dis_feat_loss: 0.0264 | Spend Time:0.11s\n",
      "Iteration: 158 | Class loss: 0.7952 | Reg loss: 0.8993 | dis_class_loss: 0.0386 | dis_reg_loss: 0.0757 | dis_feat_loss: 0.0239 | Spend Time:0.10s\n",
      "Iteration: 159 | Class loss: 0.4656 | Reg loss: 0.2717 | dis_class_loss: 0.0182 | dis_reg_loss: 0.0056 | dis_feat_loss: 0.0158 | Spend Time:0.11s\n",
      "Iteration: 160 | Class loss: 0.5500 | Reg loss: 0.4498 | dis_class_loss: 0.0000 | dis_reg_loss: 0.0000 | dis_feat_loss: 0.0216 | Spend Time:0.11s\n",
      "Iteration: 161 | Class loss: 0.3177 | Reg loss: 0.3391 | dis_class_loss: 0.0023 | dis_reg_loss: 0.0214 | dis_feat_loss: 0.0163 | Spend Time:0.11s\n",
      "Iteration: 162 | Class loss: 0.1445 | Reg loss: 0.2526 | dis_class_loss: 0.0019 | dis_reg_loss: 0.0387 | dis_feat_loss: 0.0135 | Spend Time:0.11s\n",
      "Iteration: 163 | Class loss: 0.2987 | Reg loss: 0.4824 | dis_class_loss: 0.0064 | dis_reg_loss: 0.0047 | dis_feat_loss: 0.0155 | Spend Time:0.11s\n",
      "Iteration: 164 | Class loss: 0.1293 | Reg loss: 0.2414 | dis_class_loss: 0.0093 | dis_reg_loss: 0.0288 | dis_feat_loss: 0.0315 | Spend Time:0.10s\n",
      "Iteration: 165 | Class loss: 0.2582 | Reg loss: 0.5889 | dis_class_loss: 0.0024 | dis_reg_loss: 0.0636 | dis_feat_loss: 0.0153 | Spend Time:0.12s\n",
      "Iteration: 166 | Class loss: 0.4521 | Reg loss: 0.3749 | dis_class_loss: 0.0052 | dis_reg_loss: 0.0909 | dis_feat_loss: 0.0198 | Spend Time:0.10s\n",
      "Iteration: 167 | Class loss: 0.5936 | Reg loss: 0.3153 | dis_class_loss: 0.0688 | dis_reg_loss: 0.0322 | dis_feat_loss: 0.0219 | Spend Time:0.11s\n",
      "Iteration: 168 | Class loss: 0.6633 | Reg loss: 0.7623 | dis_class_loss: 0.0147 | dis_reg_loss: 0.0205 | dis_feat_loss: 0.0181 | Spend Time:0.10s\n",
      "Iteration: 169 | Class loss: 0.4297 | Reg loss: 0.4246 | dis_class_loss: 0.0123 | dis_reg_loss: 0.0133 | dis_feat_loss: 0.0238 | Spend Time:0.11s\n",
      "Iteration: 170 | Class loss: 0.5746 | Reg loss: 0.5107 | dis_class_loss: 0.0000 | dis_reg_loss: 0.0000 | dis_feat_loss: 0.0175 | Spend Time:0.11s\n"
     ]
    },
    {
     "name": "stdout",
     "output_type": "stream",
     "text": [
      "Iteration: 171 | Class loss: 0.2950 | Reg loss: 0.7023 | dis_class_loss: 0.0881 | dis_reg_loss: 0.0384 | dis_feat_loss: 0.0256 | Spend Time:0.11s\n",
      "Iteration: 172 | Class loss: 0.6364 | Reg loss: 0.4095 | dis_class_loss: 0.0000 | dis_reg_loss: 0.0000 | dis_feat_loss: 0.0112 | Spend Time:0.11s\n",
      "Iteration: 173 | Class loss: 0.6238 | Reg loss: 0.3924 | dis_class_loss: 0.0016 | dis_reg_loss: 0.1175 | dis_feat_loss: 0.0108 | Spend Time:0.12s\n",
      "Iteration: 174 | Class loss: 0.4715 | Reg loss: 0.4051 | dis_class_loss: 0.0183 | dis_reg_loss: 0.2062 | dis_feat_loss: 0.0094 | Spend Time:0.11s\n",
      "Iteration: 175 | Class loss: 0.3910 | Reg loss: 0.2935 | dis_class_loss: 0.0230 | dis_reg_loss: 0.0202 | dis_feat_loss: 0.0208 | Spend Time:0.11s\n",
      "Iteration: 176 | Class loss: 0.2277 | Reg loss: 0.2204 | dis_class_loss: 0.0005 | dis_reg_loss: 0.0375 | dis_feat_loss: 0.0140 | Spend Time:0.11s\n",
      "Iteration: 177 | Class loss: 0.2908 | Reg loss: 0.2340 | dis_class_loss: 0.0042 | dis_reg_loss: 0.0132 | dis_feat_loss: 0.0188 | Spend Time:0.11s\n",
      "Iteration: 178 | Class loss: 0.3326 | Reg loss: 0.1924 | dis_class_loss: 0.0576 | dis_reg_loss: 0.0140 | dis_feat_loss: 0.0111 | Spend Time:0.10s\n",
      "Iteration: 179 | Class loss: 0.1198 | Reg loss: 0.1460 | dis_class_loss: 0.0409 | dis_reg_loss: 0.0219 | dis_feat_loss: 0.0090 | Spend Time:0.09s\n",
      "Iteration: 180 | Class loss: 0.8299 | Reg loss: 0.5847 | dis_class_loss: 0.0032 | dis_reg_loss: 0.0079 | dis_feat_loss: 0.0168 | Spend Time:0.11s\n",
      "Iteration: 181 | Class loss: 0.4931 | Reg loss: 0.4311 | dis_class_loss: 0.0091 | dis_reg_loss: 0.0263 | dis_feat_loss: 0.0290 | Spend Time:0.11s\n",
      "Iteration: 182 | Class loss: 1.4710 | Reg loss: 0.5614 | dis_class_loss: 0.0029 | dis_reg_loss: 0.0174 | dis_feat_loss: 0.0148 | Spend Time:0.11s\n",
      "Iteration: 183 | Class loss: 0.7289 | Reg loss: 0.2633 | dis_class_loss: 0.0428 | dis_reg_loss: 0.0387 | dis_feat_loss: 0.0252 | Spend Time:0.11s\n",
      "Iteration: 184 | Class loss: 0.2704 | Reg loss: 0.2544 | dis_class_loss: 0.0207 | dis_reg_loss: 0.0095 | dis_feat_loss: 0.0269 | Spend Time:0.11s\n",
      "Iteration: 185 | Class loss: 0.3099 | Reg loss: 0.4807 | dis_class_loss: 0.0037 | dis_reg_loss: 0.0105 | dis_feat_loss: 0.0146 | Spend Time:0.11s\n",
      "Iteration: 186 | Class loss: 0.8448 | Reg loss: 0.6348 | dis_class_loss: 0.0229 | dis_reg_loss: 0.0273 | dis_feat_loss: 0.0261 | Spend Time:0.11s\n",
      "Iteration: 187 | Class loss: 0.4834 | Reg loss: 0.2166 | dis_class_loss: 0.0915 | dis_reg_loss: 0.0162 | dis_feat_loss: 0.0229 | Spend Time:0.10s\n",
      "Iteration: 188 | Class loss: 0.1579 | Reg loss: 0.2959 | dis_class_loss: 0.0014 | dis_reg_loss: 0.0312 | dis_feat_loss: 0.0205 | Spend Time:0.11s\n",
      "Iteration: 189 | Class loss: 0.1688 | Reg loss: 0.4397 | dis_class_loss: 0.0055 | dis_reg_loss: 0.0665 | dis_feat_loss: 0.0253 | Spend Time:0.11s\n",
      "Iteration: 190 | Class loss: 0.8043 | Reg loss: 0.4443 | dis_class_loss: 0.0071 | dis_reg_loss: 0.0290 | dis_feat_loss: 0.0229 | Spend Time:0.10s\n",
      "Iteration: 191 | Class loss: 0.6583 | Reg loss: 0.6240 | dis_class_loss: 0.0058 | dis_reg_loss: 0.0104 | dis_feat_loss: 0.0231 | Spend Time:0.11s\n",
      "Iteration: 192 | Class loss: 0.4586 | Reg loss: 0.2340 | dis_class_loss: 0.0061 | dis_reg_loss: 0.0057 | dis_feat_loss: 0.0200 | Spend Time:0.11s\n",
      "Iteration: 193 | Class loss: 0.0585 | Reg loss: 0.0000 | dis_class_loss: 0.0062 | dis_reg_loss: 0.0506 | dis_feat_loss: 0.0108 | Spend Time:0.10s\n",
      "Iteration: 194 | Class loss: 0.0337 | Reg loss: 0.0000 | dis_class_loss: 0.0220 | dis_reg_loss: 0.0166 | dis_feat_loss: 0.0110 | Spend Time:0.11s\n",
      "Iteration: 195 | Class loss: 0.2856 | Reg loss: 0.2635 | dis_class_loss: 0.0065 | dis_reg_loss: 0.0306 | dis_feat_loss: 0.0230 | Spend Time:0.11s\n",
      "Iteration: 196 | Class loss: 0.3791 | Reg loss: 0.6041 | dis_class_loss: 0.0060 | dis_reg_loss: 0.0103 | dis_feat_loss: 0.0240 | Spend Time:0.10s\n",
      "Iteration: 197 | Class loss: 0.2431 | Reg loss: 0.3971 | dis_class_loss: 0.0054 | dis_reg_loss: 0.0196 | dis_feat_loss: 0.0126 | Spend Time:0.11s\n",
      "Iteration: 198 | Class loss: 0.2326 | Reg loss: 0.2156 | dis_class_loss: 0.0107 | dis_reg_loss: 0.0185 | dis_feat_loss: 0.0230 | Spend Time:0.11s\n",
      "Iteration: 199 | Class loss: 0.3117 | Reg loss: 0.6258 | dis_class_loss: 0.0177 | dis_reg_loss: 0.0084 | dis_feat_loss: 0.0119 | Spend Time:0.11s\n",
      "Iteration: 200 | Class loss: 0.0824 | Reg loss: 0.5352 | dis_class_loss: 0.0000 | dis_reg_loss: 0.0000 | dis_feat_loss: 0.0181 | Spend Time:0.10s\n",
      "Iteration: 201 | Class loss: 0.2548 | Reg loss: 0.2535 | dis_class_loss: 0.0078 | dis_reg_loss: 0.0201 | dis_feat_loss: 0.0254 | Spend Time:0.11s\n",
      "Iteration: 202 | Class loss: 0.2404 | Reg loss: 0.7987 | dis_class_loss: 0.0056 | dis_reg_loss: 0.0141 | dis_feat_loss: 0.0149 | Spend Time:0.11s\n",
      "Iteration: 203 | Class loss: 0.6872 | Reg loss: 0.4403 | dis_class_loss: 0.0124 | dis_reg_loss: 0.0172 | dis_feat_loss: 0.0122 | Spend Time:0.11s\n",
      "Iteration: 204 | Class loss: 0.0922 | Reg loss: 0.0975 | dis_class_loss: 0.0516 | dis_reg_loss: 0.0362 | dis_feat_loss: 0.0248 | Spend Time:0.11s\n",
      "Iteration: 205 | Class loss: 0.3327 | Reg loss: 0.2415 | dis_class_loss: 0.0163 | dis_reg_loss: 0.0314 | dis_feat_loss: 0.0186 | Spend Time:0.11s\n",
      "Iteration: 206 | Class loss: 0.0581 | Reg loss: 0.1170 | dis_class_loss: 0.0784 | dis_reg_loss: 0.0455 | dis_feat_loss: 0.0161 | Spend Time:0.11s\n",
      "Iteration: 207 | Class loss: 0.2980 | Reg loss: 0.0000 | dis_class_loss: 0.0103 | dis_reg_loss: 0.0158 | dis_feat_loss: 0.0190 | Spend Time:0.10s\n",
      "Iteration: 208 | Class loss: 0.8568 | Reg loss: 0.9243 | dis_class_loss: 0.0000 | dis_reg_loss: 0.0000 | dis_feat_loss: 0.0144 | Spend Time:0.09s\n",
      "Iteration: 209 | Class loss: 1.1117 | Reg loss: 0.6144 | dis_class_loss: 0.0034 | dis_reg_loss: 0.0098 | dis_feat_loss: 0.0163 | Spend Time:0.11s\n",
      "Iteration: 210 | Class loss: 0.5360 | Reg loss: 0.2294 | dis_class_loss: 0.0173 | dis_reg_loss: 0.0196 | dis_feat_loss: 0.0087 | Spend Time:0.11s\n",
      "Iteration: 211 | Class loss: 0.4953 | Reg loss: 0.3568 | dis_class_loss: 0.0153 | dis_reg_loss: 0.0128 | dis_feat_loss: 0.0205 | Spend Time:0.11s\n",
      "Iteration: 212 | Class loss: 0.2400 | Reg loss: 0.1578 | dis_class_loss: 0.0365 | dis_reg_loss: 0.0295 | dis_feat_loss: 0.0243 | Spend Time:0.11s\n",
      "Iteration: 213 | Class loss: 0.3559 | Reg loss: 0.2466 | dis_class_loss: 0.0435 | dis_reg_loss: 0.0412 | dis_feat_loss: 0.0193 | Spend Time:0.11s\n",
      "Iteration: 214 | Class loss: 0.2327 | Reg loss: 0.2114 | dis_class_loss: 0.0057 | dis_reg_loss: 0.1386 | dis_feat_loss: 0.0181 | Spend Time:0.11s\n",
      "Iteration: 215 | Class loss: 0.6559 | Reg loss: 0.8902 | dis_class_loss: 0.0017 | dis_reg_loss: 0.0335 | dis_feat_loss: 0.0213 | Spend Time:0.12s\n",
      "Iteration: 216 | Class loss: 0.9507 | Reg loss: 0.4810 | dis_class_loss: 0.0148 | dis_reg_loss: 0.0253 | dis_feat_loss: 0.0189 | Spend Time:0.10s\n",
      "Iteration: 217 | Class loss: 0.6707 | Reg loss: 0.6458 | dis_class_loss: 0.0128 | dis_reg_loss: 0.0161 | dis_feat_loss: 0.0181 | Spend Time:0.09s\n",
      "Iteration: 218 | Class loss: 1.0596 | Reg loss: 1.2177 | dis_class_loss: 0.0065 | dis_reg_loss: 0.0103 | dis_feat_loss: 0.0290 | Spend Time:0.10s\n",
      "Iteration: 219 | Class loss: 0.1693 | Reg loss: 0.3441 | dis_class_loss: 0.0144 | dis_reg_loss: 0.0235 | dis_feat_loss: 0.0232 | Spend Time:0.11s\n",
      "Iteration: 220 | Class loss: 0.9154 | Reg loss: 0.6773 | dis_class_loss: 0.0152 | dis_reg_loss: 0.0240 | dis_feat_loss: 0.0273 | Spend Time:0.11s\n",
      "Iteration: 221 | Class loss: 0.2891 | Reg loss: 0.1511 | dis_class_loss: 0.0075 | dis_reg_loss: 0.0154 | dis_feat_loss: 0.0111 | Spend Time:0.11s\n",
      "Iteration: 222 | Class loss: 0.1707 | Reg loss: 0.2766 | dis_class_loss: 0.0115 | dis_reg_loss: 0.0433 | dis_feat_loss: 0.0301 | Spend Time:0.11s\n",
      "Iteration: 223 | Class loss: 0.1843 | Reg loss: 0.2628 | dis_class_loss: 0.1632 | dis_reg_loss: 0.0079 | dis_feat_loss: 0.0286 | Spend Time:0.11s\n",
      "Iteration: 224 | Class loss: 0.1959 | Reg loss: 0.1970 | dis_class_loss: 0.0173 | dis_reg_loss: 0.0310 | dis_feat_loss: 0.0195 | Spend Time:0.11s\n",
      "Iteration: 225 | Class loss: 0.6664 | Reg loss: 0.8074 | dis_class_loss: 0.0015 | dis_reg_loss: 0.0490 | dis_feat_loss: 0.0232 | Spend Time:0.09s\n",
      "Iteration: 226 | Class loss: 0.7356 | Reg loss: 0.8006 | dis_class_loss: 0.0054 | dis_reg_loss: 0.0039 | dis_feat_loss: 0.0146 | Spend Time:0.11s\n",
      "Iteration: 227 | Class loss: 0.3306 | Reg loss: 0.2844 | dis_class_loss: 0.0193 | dis_reg_loss: 0.0057 | dis_feat_loss: 0.0191 | Spend Time:0.11s\n"
     ]
    },
    {
     "name": "stdout",
     "output_type": "stream",
     "text": [
      "Iteration: 228 | Class loss: 0.3460 | Reg loss: 0.3186 | dis_class_loss: 0.0061 | dis_reg_loss: 0.0053 | dis_feat_loss: 0.0186 | Spend Time:0.11s\n",
      "Iteration: 229 | Class loss: 0.6460 | Reg loss: 0.3703 | dis_class_loss: 0.0205 | dis_reg_loss: 0.0067 | dis_feat_loss: 0.0292 | Spend Time:0.11s\n",
      "Iteration: 230 | Class loss: 0.1034 | Reg loss: 0.1823 | dis_class_loss: 0.0132 | dis_reg_loss: 0.0436 | dis_feat_loss: 0.0273 | Spend Time:0.10s\n",
      "Iteration: 231 | Class loss: 0.9467 | Reg loss: 0.5863 | dis_class_loss: 0.0069 | dis_reg_loss: 0.0210 | dis_feat_loss: 0.0202 | Spend Time:0.11s\n",
      "Iteration: 232 | Class loss: 1.3456 | Reg loss: 0.7967 | dis_class_loss: 0.0064 | dis_reg_loss: 0.0080 | dis_feat_loss: 0.0216 | Spend Time:0.11s\n",
      "Iteration: 233 | Class loss: 0.9130 | Reg loss: 0.6077 | dis_class_loss: 0.0158 | dis_reg_loss: 0.0139 | dis_feat_loss: 0.0194 | Spend Time:0.11s\n",
      "Iteration: 234 | Class loss: 0.3251 | Reg loss: 0.2112 | dis_class_loss: 0.0559 | dis_reg_loss: 0.0968 | dis_feat_loss: 0.0220 | Spend Time:0.11s\n",
      "Iteration: 235 | Class loss: 0.0595 | Reg loss: 0.0000 | dis_class_loss: 0.0027 | dis_reg_loss: 0.0505 | dis_feat_loss: 0.0130 | Spend Time:0.10s\n",
      "Iteration: 236 | Class loss: 0.7972 | Reg loss: 0.7794 | dis_class_loss: 0.0023 | dis_reg_loss: 0.0051 | dis_feat_loss: 0.0156 | Spend Time:0.11s\n",
      "Iteration: 237 | Class loss: 0.1409 | Reg loss: 0.0000 | dis_class_loss: 0.0103 | dis_reg_loss: 0.0087 | dis_feat_loss: 0.0220 | Spend Time:0.11s\n",
      "Iteration: 238 | Class loss: 0.5985 | Reg loss: 0.5147 | dis_class_loss: 0.0026 | dis_reg_loss: 0.0139 | dis_feat_loss: 0.0166 | Spend Time:0.11s\n",
      "Iteration: 239 | Class loss: 0.2767 | Reg loss: 0.1520 | dis_class_loss: 0.0176 | dis_reg_loss: 0.0240 | dis_feat_loss: 0.0298 | Spend Time:0.11s\n",
      "Iteration: 240 | Class loss: 0.3887 | Reg loss: 0.3408 | dis_class_loss: 0.0120 | dis_reg_loss: 0.0299 | dis_feat_loss: 0.0234 | Spend Time:0.11s\n",
      "Iteration: 241 | Class loss: 0.2753 | Reg loss: 0.3756 | dis_class_loss: 0.0008 | dis_reg_loss: 0.1658 | dis_feat_loss: 0.0150 | Spend Time:0.11s\n",
      "Iteration: 242 | Class loss: 0.1037 | Reg loss: 0.2967 | dis_class_loss: 0.0164 | dis_reg_loss: 0.0146 | dis_feat_loss: 0.0210 | Spend Time:0.11s\n",
      "Iteration: 243 | Class loss: 0.7109 | Reg loss: 0.6171 | dis_class_loss: 0.0031 | dis_reg_loss: 0.0071 | dis_feat_loss: 0.0205 | Spend Time:0.11s\n",
      "Iteration: 244 | Class loss: 0.3110 | Reg loss: 0.3644 | dis_class_loss: 0.0292 | dis_reg_loss: 0.0382 | dis_feat_loss: 0.0212 | Spend Time:0.11s\n",
      "Iteration: 245 | Class loss: 0.1664 | Reg loss: 0.3850 | dis_class_loss: 0.0402 | dis_reg_loss: 0.0124 | dis_feat_loss: 0.0303 | Spend Time:0.11s\n",
      "Iteration: 246 | Class loss: 0.2682 | Reg loss: 0.5022 | dis_class_loss: 0.0023 | dis_reg_loss: 0.0099 | dis_feat_loss: 0.0258 | Spend Time:0.11s\n",
      "Iteration: 247 | Class loss: 0.2104 | Reg loss: 0.1918 | dis_class_loss: 0.0744 | dis_reg_loss: 0.0322 | dis_feat_loss: 0.0225 | Spend Time:0.11s\n",
      "Iteration: 248 | Class loss: 0.2858 | Reg loss: 0.3623 | dis_class_loss: 0.0723 | dis_reg_loss: 0.0464 | dis_feat_loss: 0.0163 | Spend Time:0.11s\n",
      "Iteration: 249 | Class loss: 0.5951 | Reg loss: 0.7333 | dis_class_loss: 0.0044 | dis_reg_loss: 0.0070 | dis_feat_loss: 0.0257 | Spend Time:0.11s\n",
      "Iteration: 250 | Class loss: 0.1793 | Reg loss: 0.2262 | dis_class_loss: 0.0041 | dis_reg_loss: 0.0094 | dis_feat_loss: 0.0205 | Spend Time:0.11s\n",
      "Iteration: 251 | Class loss: 0.4709 | Reg loss: 0.2989 | dis_class_loss: 0.0175 | dis_reg_loss: 0.0169 | dis_feat_loss: 0.0178 | Spend Time:0.11s\n",
      "Iteration: 252 | Class loss: 0.1944 | Reg loss: 0.2343 | dis_class_loss: 0.0069 | dis_reg_loss: 0.0169 | dis_feat_loss: 0.0222 | Spend Time:0.11s\n",
      "Iteration: 253 | Class loss: 0.4943 | Reg loss: 0.2871 | dis_class_loss: 0.0160 | dis_reg_loss: 0.0257 | dis_feat_loss: 0.0179 | Spend Time:0.11s\n",
      "Iteration: 254 | Class loss: 0.6850 | Reg loss: 0.6811 | dis_class_loss: 0.0005 | dis_reg_loss: 0.0119 | dis_feat_loss: 0.0178 | Spend Time:0.10s\n",
      "Iteration: 255 | Class loss: 0.0986 | Reg loss: 0.0000 | dis_class_loss: 0.0211 | dis_reg_loss: 0.0745 | dis_feat_loss: 0.0168 | Spend Time:0.11s\n",
      "Iteration: 256 | Class loss: 0.3785 | Reg loss: 0.1736 | dis_class_loss: 0.0043 | dis_reg_loss: 0.1049 | dis_feat_loss: 0.0174 | Spend Time:0.11s\n",
      "Iteration: 257 | Class loss: 0.4757 | Reg loss: 0.8049 | dis_class_loss: 0.0502 | dis_reg_loss: 0.0143 | dis_feat_loss: 0.0259 | Spend Time:0.11s\n",
      "Iteration: 258 | Class loss: 0.7309 | Reg loss: 0.8113 | dis_class_loss: 0.0045 | dis_reg_loss: 0.0117 | dis_feat_loss: 0.0196 | Spend Time:0.10s\n",
      "Iteration: 259 | Class loss: 0.4142 | Reg loss: 0.2996 | dis_class_loss: 0.0186 | dis_reg_loss: 0.0799 | dis_feat_loss: 0.0088 | Spend Time:0.11s\n",
      "Iteration: 260 | Class loss: 0.9934 | Reg loss: 0.3285 | dis_class_loss: 0.0052 | dis_reg_loss: 0.0186 | dis_feat_loss: 0.0215 | Spend Time:0.11s\n",
      "Iteration: 261 | Class loss: 0.2494 | Reg loss: 0.3673 | dis_class_loss: 0.0105 | dis_reg_loss: 0.0216 | dis_feat_loss: 0.0277 | Spend Time:0.11s\n",
      "Iteration: 262 | Class loss: 0.4849 | Reg loss: 0.4022 | dis_class_loss: 0.0040 | dis_reg_loss: 0.0472 | dis_feat_loss: 0.0174 | Spend Time:0.09s\n",
      "Iteration: 263 | Class loss: 1.0385 | Reg loss: 0.5185 | dis_class_loss: 0.0053 | dis_reg_loss: 0.0154 | dis_feat_loss: 0.0307 | Spend Time:0.11s\n",
      "Iteration: 264 | Class loss: 0.4668 | Reg loss: 0.3359 | dis_class_loss: 0.0029 | dis_reg_loss: 0.0322 | dis_feat_loss: 0.0106 | Spend Time:0.11s\n",
      "Iteration: 265 | Class loss: 0.9025 | Reg loss: 1.1873 | dis_class_loss: 0.0082 | dis_reg_loss: 0.0018 | dis_feat_loss: 0.0150 | Spend Time:0.11s\n",
      "Iteration: 266 | Class loss: 0.6710 | Reg loss: 0.4518 | dis_class_loss: 0.0120 | dis_reg_loss: 0.0127 | dis_feat_loss: 0.0259 | Spend Time:0.11s\n",
      "Iteration: 267 | Class loss: 0.1879 | Reg loss: 0.2161 | dis_class_loss: 0.0045 | dis_reg_loss: 0.0138 | dis_feat_loss: 0.0199 | Spend Time:0.11s\n",
      "Iteration: 268 | Class loss: 1.1719 | Reg loss: 0.7663 | dis_class_loss: 0.0631 | dis_reg_loss: 0.0539 | dis_feat_loss: 0.0147 | Spend Time:0.11s\n",
      "Iteration: 269 | Class loss: 0.2047 | Reg loss: 0.3412 | dis_class_loss: 0.0000 | dis_reg_loss: 0.0000 | dis_feat_loss: 0.0141 | Spend Time:0.11s\n",
      "Iteration: 270 | Class loss: 0.3557 | Reg loss: 0.4689 | dis_class_loss: 0.0064 | dis_reg_loss: 0.0082 | dis_feat_loss: 0.0228 | Spend Time:0.11s\n",
      "Iteration: 271 | Class loss: 0.8090 | Reg loss: 0.4971 | dis_class_loss: 0.0036 | dis_reg_loss: 0.0345 | dis_feat_loss: 0.0156 | Spend Time:0.10s\n",
      "Iteration: 272 | Class loss: 0.3644 | Reg loss: 0.3080 | dis_class_loss: 0.0000 | dis_reg_loss: 0.0000 | dis_feat_loss: 0.0111 | Spend Time:0.11s\n",
      "Iteration: 273 | Class loss: 0.3462 | Reg loss: 0.8277 | dis_class_loss: 0.0321 | dis_reg_loss: 0.0206 | dis_feat_loss: 0.0140 | Spend Time:0.11s\n",
      "Iteration: 274 | Class loss: 0.2571 | Reg loss: 0.4160 | dis_class_loss: 0.0339 | dis_reg_loss: 0.1202 | dis_feat_loss: 0.0192 | Spend Time:0.11s\n"
     ]
    }
   ],
   "source": [
    "import time\n",
    "import pickle\n",
    "retinanet.train()\n",
    "retinanet.freeze_bn()\n",
    "\n",
    "dataset = dataset_train\n",
    "\n",
    "retinanet.train()\n",
    "\n",
    "retinanet.distill_loss = True\n",
    "retinanet.freeze_resnet(True)\n",
    "retinanet.freeze_bn()\n",
    "grads = []\n",
    "for idx, data in enumerate(dataset):\n",
    "    temp = []\n",
    "    start = time.time()\n",
    "    optimizer.zero_grad()\n",
    "    with torch.cuda.device(0):\n",
    "        if torch.cuda.is_available():\n",
    "            losses = retinanet([data['img'].permute(2, 0, 1).cuda().float().unsqueeze(dim=0), data['annot'].cuda().unsqueeze(dim=0)])\n",
    "            if retinanet.distill_loss:\n",
    "                classification_loss, regression_loss, dist_class_loss, dist_reg_loss, dist_feat_loss = losses\n",
    "            else:\n",
    "                classification_loss, regression_loss = losses\n",
    "\n",
    "        else:\n",
    "\n",
    "            print('not have gpu')\n",
    "            break\n",
    "\n",
    "        classification_loss = classification_loss.mean()\n",
    "        regression_loss = regression_loss.mean()\n",
    "\n",
    "\n",
    "        loss = classification_loss + regression_loss\n",
    "        if retinanet.distill_loss:\n",
    "            loss += dist_class_loss + dist_reg_loss + dist_feat_loss\n",
    "\n",
    "        if bool(loss == 0):\n",
    "            continue\n",
    "\n",
    "        loss.backward()\n",
    "\n",
    "\n",
    "        for name, p in retinanet.named_parameters():\n",
    "            if \"prev_model\" not in name and \"bn\" not in name and p.requires_grad:\n",
    "                temp.append(p.grad.view(-1))\n",
    "\n",
    "        temp = torch.cat(temp)\n",
    "        if grads == []:\n",
    "            grads = temp\n",
    "        else:\n",
    "            grads += temp\n",
    "\n",
    "        end = time.time()\n",
    "\n",
    "\n",
    "        if not retinanet.distill_loss:\n",
    "            print('Iteration: {} | Classification loss: {:1.5f} | Regression loss: {:1.5f} | Spend Time:{:1.2f}s'.format(idx, float(classification_loss), float(regression_loss), end - start))\n",
    "        else:\n",
    "            print('Iteration: {} | Class loss: {:1.4f} | Reg loss: {:1.4f} | dis_class_loss: {:1.4f} | dis_reg_loss: {:1.4f} | dis_feat_loss: {:1.4f} | Spend Time:{:1.2f}s'.format(idx, float(classification_loss), float(regression_loss), float(dist_class_loss), float(dist_reg_loss), float(dist_feat_loss),end - start))\n",
    "        del classification_loss\n",
    "        del regression_loss\n",
    "        if retinanet.distill_loss:\n",
    "            del dist_class_loss, dist_reg_loss, dist_feat_loss\n",
    "#     except Exception as e:\n",
    "#         print(e)\n",
    "#         continue"
   ]
  },
  {
   "cell_type": "code",
   "execution_count": 10,
   "metadata": {
    "ExecuteTime": {
     "end_time": "2021-06-29T06:19:42.106792Z",
     "start_time": "2021-06-29T06:19:42.095832Z"
    }
   },
   "outputs": [],
   "source": [
    "grads = grads / len(dataset)"
   ]
  },
  {
   "cell_type": "code",
   "execution_count": 23,
   "metadata": {
    "ExecuteTime": {
     "end_time": "2021-06-29T06:29:53.310820Z",
     "start_time": "2021-06-29T06:29:53.245696Z"
    }
   },
   "outputs": [],
   "source": [
    "from collections import defaultdict\n",
    "\n",
    "all_grads = defaultdict()\n",
    "index = 0\n",
    "for name, p in retinanet.named_parameters():\n",
    "    if \"prev_model\" not in name and \"bn\" not in name and p.requires_grad:\n",
    "        n_param = p.numel()\n",
    "        all_grads[name] = grads[index:index+n_param].view_as(p).cpu()\n",
    "        index += n_param"
   ]
  },
  {
   "cell_type": "code",
   "execution_count": 26,
   "metadata": {
    "ExecuteTime": {
     "end_time": "2021-06-29T06:30:34.883250Z",
     "start_time": "2021-06-29T06:30:34.875553Z"
    }
   },
   "outputs": [
    {
     "data": {
      "text/plain": [
       "tensor(5.6232)"
      ]
     },
     "execution_count": 26,
     "metadata": {},
     "output_type": "execute_result"
    }
   ],
   "source": [
    "all_grads['conv1.weight'].max()"
   ]
  },
  {
   "cell_type": "code",
   "execution_count": null,
   "metadata": {
    "ExecuteTime": {
     "end_time": "2021-06-06T15:13:50.683846Z",
     "start_time": "2021-06-06T15:13:50.595229Z"
    }
   },
   "outputs": [],
   "source": [
    "img = dataset_train.load_image(74)\n",
    "ann = dataset_train.load_annotations(74)\n",
    "data = {'img': img, 'annot': ann}\n",
    "data = dataset_train.transform(data)"
   ]
  },
  {
   "cell_type": "code",
   "execution_count": null,
   "metadata": {
    "ExecuteTime": {
     "end_time": "2021-06-06T15:16:08.944527Z",
     "start_time": "2021-06-06T15:16:08.937293Z"
    }
   },
   "outputs": [],
   "source": [
    "data['annot'].cuda().unsque`eze(dim=0).shape"
   ]
  },
  {
   "cell_type": "code",
   "execution_count": null,
   "metadata": {
    "ExecuteTime": {
     "end_time": "2021-06-06T15:12:23.923486Z",
     "start_time": "2021-06-06T15:12:23.916190Z"
    }
   },
   "outputs": [],
   "source": [
    "dataset_train.cocoHelper.classes"
   ]
  },
  {
   "cell_type": "code",
   "execution_count": null,
   "metadata": {
    "ExecuteTime": {
     "end_time": "2021-06-06T15:13:55.381660Z",
     "start_time": "2021-06-06T15:13:55.315557Z"
    }
   },
   "outputs": [],
   "source": [
    "retinanet.each_cat_loss = True\n",
    "classification_loss, _ = retinanet([data['img'].permute(2, 0, 1).cuda().float().unsqueeze(dim=0), data['annot'].cuda().unsqueeze(dim=0)])"
   ]
  },
  {
   "cell_type": "code",
   "execution_count": null,
   "metadata": {
    "ExecuteTime": {
     "end_time": "2021-06-06T15:11:29.945048Z",
     "start_time": "2021-06-06T15:11:29.936988Z"
    }
   },
   "outputs": [],
   "source": [
    "classification_loss"
   ]
  },
  {
   "cell_type": "markdown",
   "metadata": {},
   "source": [
    "# 分別為每個類別計算loss"
   ]
  },
  {
   "cell_type": "code",
   "execution_count": null,
   "metadata": {
    "ExecuteTime": {
     "end_time": "2021-06-06T14:46:42.703754Z",
     "start_time": "2021-06-06T14:37:59.732942Z"
    }
   },
   "outputs": [],
   "source": [
    "import time\n",
    "import pickle\n",
    "import numpy as np\n",
    "retinanet.train()\n",
    "retinanet.freeze_bn()\n",
    "\n",
    "dataset = dataset_train\n",
    "\n",
    "fail_id = []\n",
    "losses = [collections.defaultdict() for _ in dataset.seen_class_id]\n",
    "\n",
    "retinanet.each_cat_loss = True\n",
    "for idx, data in enumerate(dataset):\n",
    "\n",
    "    try:\n",
    "        with torch.cuda.device(0):\n",
    "            if torch.cuda.is_available():\n",
    "                classification_loss, _ = retinanet([data['img'].permute(2, 0, 1).cuda().float().unsqueeze(dim=0), data['annot'].cuda().unsqueeze(dim=0)])\n",
    "            else:\n",
    "                print('not have gpu')\n",
    "                break\n",
    "\n",
    "\n",
    "            img_id = dataset.image_ids[idx]\n",
    "\n",
    "            for key in classification_loss.keys():\n",
    "                losses[key][img_id] = float(np.mean(classification_loss[key]))\n",
    "\n",
    "            print(idx)\n",
    "\n",
    "    except Exception as e:\n",
    "        print(e)\n",
    "        fail_id.append(idx)\n",
    "        continue\n",
    "\n",
    "print('fail_id:',fail_id)\n",
    "\n",
    "\n",
    "with open(os.path.join(\"/\".join(get_checkpoint_path(method, 1, 50,data_split).split('/')[:-1]), 'losses_each_cat_new.pickle'), 'wb') as f:\n",
    "    pickle.dump(losses, f)\n",
    "#print(losses)"
   ]
  },
  {
   "cell_type": "code",
   "execution_count": null,
   "metadata": {
    "ExecuteTime": {
     "end_time": "2021-06-06T14:36:16.411626Z",
     "start_time": "2021-06-06T14:36:16.405118Z"
    }
   },
   "outputs": [],
   "source": [
    "classification_loss.keys()"
   ]
  },
  {
   "cell_type": "code",
   "execution_count": null,
   "metadata": {},
   "outputs": [],
   "source": [
    "from collections import defaultdict"
   ]
  },
  {
   "cell_type": "code",
   "execution_count": null,
   "metadata": {
    "ExecuteTime": {
     "end_time": "2021-06-06T05:34:58.264517Z",
     "start_time": "2021-06-06T05:34:58.209957Z"
    }
   },
   "outputs": [],
   "source": [
    "with open(os.path.join(\"/\".join(get_checkpoint_path(method, 1, 50,data_split).split('/')[:-1]), 'losses_each_cat.pickle'), 'rb') as f:\n",
    "    losses = pickle.load(f)"
   ]
  },
  {
   "cell_type": "code",
   "execution_count": null,
   "metadata": {
    "ExecuteTime": {
     "end_time": "2021-06-06T05:35:24.814800Z",
     "start_time": "2021-06-06T05:35:24.807388Z"
    }
   },
   "outputs": [],
   "source": [
    "for i in losses:\n",
    "    print(len(i))"
   ]
  },
  {
   "cell_type": "code",
   "execution_count": null,
   "metadata": {
    "ExecuteTime": {
     "end_time": "2021-05-27T13:55:41.434110Z",
     "start_time": "2021-05-27T13:55:41.348495Z"
    }
   },
   "outputs": [],
   "source": [
    "losses"
   ]
  },
  {
   "cell_type": "code",
   "execution_count": null,
   "metadata": {
    "ExecuteTime": {
     "end_time": "2021-05-27T13:48:23.556669Z",
     "start_time": "2021-05-27T13:48:23.548848Z"
    }
   },
   "outputs": [],
   "source": [
    "os.path.join(\"/\".join(get_checkpoint_path(method, 1, 50).split('/')[:-1]), 'losses.pickle')"
   ]
  },
  {
   "cell_type": "code",
   "execution_count": null,
   "metadata": {
    "ExecuteTime": {
     "end_time": "2021-05-27T13:58:00.745982Z",
     "start_time": "2021-05-27T13:58:00.740224Z"
    }
   },
   "outputs": [],
   "source": [
    "losses = [v[2] for v in losses.values()]"
   ]
  },
  {
   "cell_type": "code",
   "execution_count": null,
   "metadata": {
    "ExecuteTime": {
     "end_time": "2021-05-27T13:58:20.940278Z",
     "start_time": "2021-05-27T13:58:20.917729Z"
    }
   },
   "outputs": [],
   "source": []
  },
  {
   "cell_type": "code",
   "execution_count": null,
   "metadata": {
    "ExecuteTime": {
     "end_time": "2021-04-06T18:10:11.360151Z",
     "start_time": "2021-04-06T18:10:11.054507Z"
    }
   },
   "outputs": [],
   "source": [
    "method = 'w_distillation'\n",
    "\n",
    "for i in range(50,51,10):\n",
    "    print(np.mean(readCheckpoint(method, 1, i)))\n",
    "\n"
   ]
  },
  {
   "cell_type": "code",
   "execution_count": null,
   "metadata": {
    "ExecuteTime": {
     "end_time": "2021-04-06T18:09:05.086275Z",
     "start_time": "2021-04-06T18:09:04.282162Z"
    }
   },
   "outputs": [],
   "source": [
    "method = 'incremental'\n",
    "\n",
    "for i in range(10,31,10):\n",
    "    print(np.mean(readCheckpoint(method, 1, i)))"
   ]
  },
  {
   "cell_type": "code",
   "execution_count": null,
   "metadata": {
    "ExecuteTime": {
     "end_time": "2021-04-06T18:05:13.442587Z",
     "start_time": "2021-04-06T18:05:12.170534Z"
    }
   },
   "outputs": [],
   "source": [
    "method = 'incremental'\n",
    "\n",
    "for i in range(10,51,10):\n",
    "    print(np.mean(readCheckpoint(method, 0, i)))\n",
    "\n"
   ]
  },
  {
   "cell_type": "code",
   "execution_count": null,
   "metadata": {},
   "outputs": [],
   "source": [
    "np.mean(readCheckpoint(method, 0, i)"
   ]
  },
  {
   "cell_type": "code",
   "execution_count": null,
   "metadata": {
    "ExecuteTime": {
     "end_time": "2021-04-06T04:32:59.345393Z",
     "start_time": "2021-04-06T04:32:59.339106Z"
    }
   },
   "outputs": [],
   "source": [
    "parts = []\n",
    "\n",
    "for i in range(0,4):\n",
    "    parts.append(retinanet.classificationModel.output.weight.data[i*9: i*9 + 9,:,:,:])"
   ]
  },
  {
   "cell_type": "code",
   "execution_count": null,
   "metadata": {
    "ExecuteTime": {
     "end_time": "2021-04-06T04:33:01.611318Z",
     "start_time": "2021-04-06T04:33:01.601089Z"
    }
   },
   "outputs": [],
   "source": [
    "import torch.nn as nn\n",
    "output = nn.Conv2d(256, 9 * 20, kernel_size=3, padding=1)"
   ]
  },
  {
   "cell_type": "code",
   "execution_count": null,
   "metadata": {
    "ExecuteTime": {
     "end_time": "2021-04-06T04:36:24.690145Z",
     "start_time": "2021-04-06T04:36:24.679573Z"
    }
   },
   "outputs": [],
   "source": [
    "output.weight.data[0:9,:,:,:] = parts[3]\n",
    "#vehicle(7)\n",
    "for i in range(0,7):\n",
    "    output.weight.data[9 + i*9:9 + i*9 + 9,:,:,:] = parts[0]\n",
    "#furniture(6)\n",
    "for i in range(0,6):\n",
    "    output.weight.data[72 + i*9:72 + i*9 + 9,:,:,:] = parts[1]\n",
    "#animals(6)\n",
    "for i in range(0,6):\n",
    "    output.weight.data[126 + i*9:126 + i*9 + 9,:,:,:] = parts[2]"
   ]
  },
  {
   "cell_type": "code",
   "execution_count": null,
   "metadata": {
    "ExecuteTime": {
     "end_time": "2021-04-06T04:36:53.559211Z",
     "start_time": "2021-04-06T04:36:53.550539Z"
    }
   },
   "outputs": [],
   "source": [
    "(output.weight.data[72:81,:,:,:] == output.weight.data[81:90,:,:,:]).any()"
   ]
  },
  {
   "cell_type": "code",
   "execution_count": null,
   "metadata": {
    "ExecuteTime": {
     "end_time": "2021-03-16T17:29:31.511361Z",
     "start_time": "2021-03-16T17:29:31.372639Z"
    }
   },
   "outputs": [],
   "source": [
    "import copy\n",
    "prev_model = copy.deepcopy(retinanet)\n",
    "retinanet.increase_class(1)\n",
    "\n",
    "retinanet.cuda()\n",
    "prev_model.cuda()"
   ]
  },
  {
   "cell_type": "code",
   "execution_count": null,
   "metadata": {
    "ExecuteTime": {
     "end_time": "2021-03-16T17:29:38.239997Z",
     "start_time": "2021-03-16T17:29:38.234111Z"
    }
   },
   "outputs": [],
   "source": [
    "import torch\n",
    "test = torch.ones(2,256,30,30).cuda()"
   ]
  },
  {
   "cell_type": "code",
   "execution_count": null,
   "metadata": {
    "ExecuteTime": {
     "end_time": "2021-03-16T17:29:39.297163Z",
     "start_time": "2021-03-16T17:29:39.286858Z"
    }
   },
   "outputs": [],
   "source": [
    "prev_out = prev_model.classificationModel.output_act(prev_model.classificationModel.output(test))\n",
    "cur_out = retinanet.classificationModel.output_act(retinanet.classificationModel.output(test))"
   ]
  },
  {
   "cell_type": "code",
   "execution_count": null,
   "metadata": {
    "ExecuteTime": {
     "end_time": "2021-03-16T17:29:52.746312Z",
     "start_time": "2021-03-16T17:29:52.734269Z"
    }
   },
   "outputs": [],
   "source": [
    "\n",
    "def change_shape1(out, num_classes):\n",
    "    out1 = out.permute(0, 2, 3, 1)\n",
    "    batch_size, width, height, channels = out1.shape\n",
    "    out1 = out1.view(batch_size, width, height, 9, num_classes)\n",
    "    \n",
    "    return out1.contiguous().view(2, -1, num_classes)\n",
    "def change_shape2(out, num_classes):\n",
    "    out1 = out.permute(0, 2, 3, 1)\n",
    "    batch_size, width, height, channels = out1.shape\n",
    "    out1 = out1.view(batch_size, width, height,num_classes, 9)\n",
    "    \n",
    "    out1 = out1.permute(0, 1, 2, 4, 3)\n",
    "    \n",
    "    return out1.contiguous().view(2, -1, num_classes)\n",
    "prev_out_new1 = change_shape1(prev_out, 19)\n",
    "cur_out_new1 = change_shape1(cur_out, 20)\n",
    "\n",
    "# prev_out_new2 = change_shape2(prev_out, 19)\n",
    "# cur_out_new2 = change_shape2(cur_out, 20)\n",
    "# (prev_out == cur_out[:,:171,:,:]).any()"
   ]
  }
 ],
 "metadata": {
  "hide_input": false,
  "kernelspec": {
   "display_name": "Python [conda env:shiang]",
   "language": "python",
   "name": "conda-env-shiang-py"
  },
  "language_info": {
   "codemirror_mode": {
    "name": "ipython",
    "version": 3
   },
   "file_extension": ".py",
   "mimetype": "text/x-python",
   "name": "python",
   "nbconvert_exporter": "python",
   "pygments_lexer": "ipython3",
   "version": "3.6.9"
  },
  "varInspector": {
   "cols": {
    "lenName": 16,
    "lenType": 16,
    "lenVar": 40
   },
   "kernels_config": {
    "python": {
     "delete_cmd_postfix": "",
     "delete_cmd_prefix": "del ",
     "library": "var_list.py",
     "varRefreshCmd": "print(var_dic_list())"
    },
    "r": {
     "delete_cmd_postfix": ") ",
     "delete_cmd_prefix": "rm(",
     "library": "var_list.r",
     "varRefreshCmd": "cat(var_dic_list()) "
    }
   },
   "types_to_exclude": [
    "module",
    "function",
    "builtin_function_or_method",
    "instance",
    "_Feature"
   ],
   "window_display": false
  }
 },
 "nbformat": 4,
 "nbformat_minor": 2
}
